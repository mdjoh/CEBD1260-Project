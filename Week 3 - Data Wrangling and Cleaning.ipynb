{
 "cells": [
  {
   "cell_type": "markdown",
   "metadata": {},
   "source": [
    "# FIFA 19 Data Wrangling and Cleaning"
   ]
  },
  {
   "cell_type": "markdown",
   "metadata": {},
   "source": [
    "## External Dataset\n",
    "An external dataset for the FIFA 19 dataset is not necessary because the dataset contains all the required relevant features."
   ]
  },
  {
   "cell_type": "code",
   "execution_count": null,
   "metadata": {},
   "outputs": [],
   "source": [
    "# import necessary libraries\n",
    "%matplotlib inline\n",
    "\n",
    "import pandas as pd\n",
    "import numpy as np\n",
    "import scipy\n",
    "import matplotlib.pyplot as plt\n",
    "\n",
    "# the more advanced python visualization library\n",
    "import seaborn as sns\n",
    "\n",
    "# apply style to all the charts\n",
    "sns.set_style('whitegrid')\n",
    "\n",
    "# convert scientific notation to decimals\n",
    "pd.set_option('display.float_format', lambda x: '%.2f' % x)"
   ]
  },
  {
   "cell_type": "code",
   "execution_count": null,
   "metadata": {},
   "outputs": [],
   "source": [
    "# load the data\n",
    "df = pd.read_csv('data/fifa19data.csv')\n",
    "df"
   ]
  },
  {
   "cell_type": "markdown",
   "metadata": {},
   "source": [
    "## Minor Tasks\n",
    "removing columns that are predominantly empty due to applicability reasons (i.e. Loaned From)\n",
    "removing irrelevant columns (i.e. Real Face, Joined, Contract Valid Until, jersey number)\n",
    "converting height to an integer in inches\n",
    "converting weight from string to an integer\n",
    "convert value and release value to a float in millions of euro\n",
    "convert wage from string to an integer in thousands of euro\n",
    "-keeping a player's true position rating and truncating the season improvement value (i.e. get rid of +n) and converting data type from string to integer OR calculating updated position rating of player by evaluating given rating expression (I'd like to do the latter because the data is the latest edition of the database)\n",
    "filling in a GK's position rating for outfield positions to be 0"
   ]
  },
  {
   "cell_type": "markdown",
   "metadata": {},
   "source": [
    "## Major Tasks\n",
    "Fill in player's missing Release Clause values with Market Value or with the average release clauses of players with the same overall rating"
   ]
  },
  {
   "cell_type": "code",
   "execution_count": null,
   "metadata": {},
   "outputs": [],
   "source": []
  }
 ],
 "metadata": {
  "kernelspec": {
   "display_name": "Python 3",
   "language": "python",
   "name": "python3"
  },
  "language_info": {
   "codemirror_mode": {
    "name": "ipython",
    "version": 3
   },
   "file_extension": ".py",
   "mimetype": "text/x-python",
   "name": "python",
   "nbconvert_exporter": "python",
   "pygments_lexer": "ipython3",
   "version": "3.6.5"
  }
 },
 "nbformat": 4,
 "nbformat_minor": 2
}
