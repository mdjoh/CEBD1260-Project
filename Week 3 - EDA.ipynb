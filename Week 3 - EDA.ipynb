{
 "cells": [
  {
   "cell_type": "markdown",
   "metadata": {},
   "source": [
    "# FIFA 19 Exploratory Data Analysis"
   ]
  },
  {
   "cell_type": "code",
   "execution_count": null,
   "metadata": {},
   "outputs": [],
   "source": [
    "### EDA ###\n",
    "# correlation between overall rating and value\n",
    "\n",
    "# sorted list of players by rating\n",
    "# sorted list of players by potential rating who are 21 or younger\n",
    "\n",
    "# club who spends the most on wages\n",
    "# club with the highest rated players (average rating of top 10 players)\n",
    "# club with the highest potential (average rating of players' with the top 10 potential at each club)\n",
    "# club with the highest potential young players (players under 21)\n",
    "\n",
    "# average rating of top 5 players in each position\n",
    "\n",
    "# each country's average rating of top 10 outfield players and the top rated GK\n",
    "\n",
    "# position vs value\n",
    "# position vs overall rating\n",
    "\n",
    "# potential vs age - see what age potential plateaus\n",
    "# overall rating vs age\n",
    "\n",
    "# Is overall rating a good indicator of value?\n",
    "\n",
    "# Which player is potentially undervalued? Relationship between potential rating and current value...(-ve correlation maybe?)\n",
    "\n",
    "# Identify undervalued players...so those players with the largest overall rating per million euro (overall rating / value)\n",
    "\n",
    "# Identify players who have the potential to be of good value...so those players with the largest potential rating per million euro (potential rating / value)\n",
    "# young players with the largest potential rating per million euro"
   ]
  }
 ],
 "metadata": {
  "kernelspec": {
   "display_name": "Python 3",
   "language": "python",
   "name": "python3"
  },
  "language_info": {
   "codemirror_mode": {
    "name": "ipython",
    "version": 3
   },
   "file_extension": ".py",
   "mimetype": "text/x-python",
   "name": "python",
   "nbconvert_exporter": "python",
   "pygments_lexer": "ipython3",
   "version": "3.6.5"
  }
 },
 "nbformat": 4,
 "nbformat_minor": 2
}
