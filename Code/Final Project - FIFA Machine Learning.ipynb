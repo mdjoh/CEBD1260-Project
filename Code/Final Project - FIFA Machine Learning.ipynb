{
 "cells": [
  {
   "cell_type": "markdown",
   "metadata": {},
   "source": [
    "# FIFA 19 Machine Learning"
   ]
  },
  {
   "cell_type": "markdown",
   "metadata": {},
   "source": [
    "## Problem Definition\n",
    "Build a prediction model to predict a player's overall rating."
   ]
  },
  {
   "cell_type": "code",
   "execution_count": 1,
   "metadata": {},
   "outputs": [],
   "source": [
    "# import libraries\n",
    "%matplotlib inline\n",
    "\n",
    "import pandas as pd\n",
    "import numpy as np\n",
    "import matplotlib.pyplot as plt\n",
    "import seaborn as sns\n",
    "\n",
    "# sklearn :: utils\n",
    "from sklearn.model_selection import train_test_split\n",
    "from sklearn.preprocessing import StandardScaler\n",
    "\n",
    "# sklearn :: models\n",
    "from sklearn.linear_model import LinearRegression\n",
    "from sklearn.neighbors import KNeighborsRegressor\n",
    "from sklearn.tree import DecisionTreeRegressor\n",
    "from sklearn.ensemble import RandomForestRegressor\n",
    "\n",
    "# sklearn :: evaluation metrics\n",
    "from sklearn.metrics import mean_absolute_error\n",
    "from sklearn.metrics import mean_squared_error\n",
    "\n",
    "sns.set_style('whitegrid')"
   ]
  },
  {
   "cell_type": "markdown",
   "metadata": {},
   "source": [
    "## Load Data"
   ]
  },
  {
   "cell_type": "code",
   "execution_count": 2,
   "metadata": {},
   "outputs": [
    {
     "name": "stdout",
     "output_type": "stream",
     "text": [
      "Index(['Name', 'Age', 'Nationality', 'Overall', 'Potential', 'Club', 'Value',\n",
      "       'Wage', 'Special', 'Preferred Foot', 'International Reputation',\n",
      "       'Weak Foot', 'Skill Moves', 'Work Rate', 'Position', 'Height', 'Weight',\n",
      "       'LS', 'ST', 'RS', 'LW', 'LF', 'CF', 'RF', 'RW', 'LAM', 'CAM', 'RAM',\n",
      "       'LM', 'LCM', 'CM', 'RCM', 'RM', 'LWB', 'LDM', 'CDM', 'RDM', 'RWB', 'LB',\n",
      "       'LCB', 'CB', 'RCB', 'RB', 'Crossing', 'Finishing', 'HeadingAccuracy',\n",
      "       'ShortPassing', 'Volleys', 'Dribbling', 'Curve', 'FKAccuracy',\n",
      "       'LongPassing', 'BallControl', 'Acceleration', 'SprintSpeed', 'Agility',\n",
      "       'Reactions', 'Balance', 'ShotPower', 'Jumping', 'Stamina', 'Strength',\n",
      "       'LongShots', 'Aggression', 'Interceptions', 'Positioning', 'Vision',\n",
      "       'Penalties', 'Composure', 'Marking', 'StandingTackle', 'SlidingTackle',\n",
      "       'GKDiving', 'GKHandling', 'GKKicking', 'GKPositioning', 'GKReflexes'],\n",
      "      dtype='object')\n"
     ]
    }
   ],
   "source": [
    "df = pd.read_csv('Data/fifa19data_clean.csv')\n",
    "print(df.columns)"
   ]
  },
  {
   "cell_type": "markdown",
   "metadata": {},
   "source": [
    "## Feature Engineering\n",
    "\n",
    "Split the 'Work Rate' feature into 'Attack Work Rate' and 'Defensive Work Rate' and one-hot encode the following categorical features of the dataset:\n",
    "    - Preferred Foot\n",
    "    - Attack and Defensive Work Rate\n",
    "    - Position"
   ]
  },
  {
   "cell_type": "code",
   "execution_count": 3,
   "metadata": {},
   "outputs": [],
   "source": [
    "# split Work Rate into 2 separate features\n",
    "df['Attack Work Rate'] = df.apply(lambda row: row['Work Rate'].split(\"/ \")[0], axis=1)\n",
    "df['Defensive Work Rate'] = df.apply(lambda row: row['Work Rate'].split(\"/ \")[1], axis=1)"
   ]
  },
  {
   "cell_type": "code",
   "execution_count": 4,
   "metadata": {},
   "outputs": [],
   "source": [
    "# group similar positions together\n",
    "forward = ['RS', 'LS', 'RF', 'LF', 'CF', 'ST']\n",
    "\n",
    "attack_mid = ['RAM', 'LAM', 'CAM']\n",
    "wings = ['RM', 'RW', 'LM', 'LW']\n",
    "\n",
    "central_mid = ['CM', 'LCM', 'RCM']\n",
    "defensive_mid = ['CDM', 'LDM', 'RDM']\n",
    "\n",
    "fullback = ['RB', 'RWB', 'LB', 'LWB']\n",
    "cb_def = ['CB', 'LCB', 'RCB']\n",
    "\n",
    "gk = ['GK']"
   ]
  },
  {
   "cell_type": "code",
   "execution_count": 5,
   "metadata": {},
   "outputs": [],
   "source": [
    "# group similar positions together and make new feature 'Position Category'\n",
    "def groupPosition(position):\n",
    "    forward = ['RS', 'LS', 'RF', 'LF', 'CF', 'ST']\n",
    "    attack_mid = ['RAM', 'LAM', 'CAM']\n",
    "    wings = ['RM', 'RW', 'LM', 'LW']\n",
    "    central_mid = ['CM', 'LCM', 'RCM']\n",
    "    defensive_mid = ['CDM', 'LDM', 'RDM']\n",
    "    fullback = ['RB', 'RWB', 'LB', 'LWB']\n",
    "    cb_def = ['CB', 'LCB', 'RCB']\n",
    "\n",
    "    if position == 'GK':\n",
    "        return 'GK'\n",
    "    elif position in forward:\n",
    "        return 'FW'\n",
    "    elif position in attack_mid:\n",
    "        return 'AM'\n",
    "    elif position in wings:\n",
    "        return 'W'\n",
    "    elif position in central_mid:\n",
    "        return 'CM'\n",
    "    elif position in defensive_mid:\n",
    "        return 'DM'\n",
    "    elif position in fullback:\n",
    "        return 'FB'\n",
    "    elif position in cb_def:\n",
    "        return 'CB'\n",
    "\n",
    "df['Position Category'] = df['Position'].apply(groupPosition)"
   ]
  },
  {
   "cell_type": "code",
   "execution_count": 6,
   "metadata": {},
   "outputs": [],
   "source": [
    "# one-hot encode categorical features\n",
    "categorical = ['Preferred Foot', 'Attack Work Rate', 'Defensive Work Rate', 'Position Category']\n",
    "dummy_prefix = ['Foot', 'AWR', 'DWR', 'Pos']\n",
    "\n",
    "for i in range(0, len(categorical)):\n",
    "    df = pd.concat([df, pd.get_dummies(df[categorical[i]], prefix=dummy_prefix[i])], axis=1)"
   ]
  },
  {
   "cell_type": "code",
   "execution_count": 7,
   "metadata": {},
   "outputs": [
    {
     "name": "stderr",
     "output_type": "stream",
     "text": [
      "G:\\Anaconda3\\lib\\site-packages\\sklearn\\utils\\validation.py:595: DataConversionWarning: Data with input dtype uint8 was converted to float64 by StandardScaler.\n",
      "  warnings.warn(msg, DataConversionWarning)\n",
      "G:\\Anaconda3\\lib\\site-packages\\sklearn\\utils\\validation.py:595: DataConversionWarning: Data with input dtype uint8 was converted to float64 by StandardScaler.\n",
      "  warnings.warn(msg, DataConversionWarning)\n",
      "G:\\Anaconda3\\lib\\site-packages\\sklearn\\utils\\validation.py:595: DataConversionWarning: Data with input dtype uint8 was converted to float64 by StandardScaler.\n",
      "  warnings.warn(msg, DataConversionWarning)\n",
      "G:\\Anaconda3\\lib\\site-packages\\sklearn\\utils\\validation.py:595: DataConversionWarning: Data with input dtype uint8 was converted to float64 by StandardScaler.\n",
      "  warnings.warn(msg, DataConversionWarning)\n",
      "G:\\Anaconda3\\lib\\site-packages\\sklearn\\utils\\validation.py:595: DataConversionWarning: Data with input dtype int64 was converted to float64 by StandardScaler.\n",
      "  warnings.warn(msg, DataConversionWarning)\n",
      "G:\\Anaconda3\\lib\\site-packages\\sklearn\\utils\\validation.py:595: DataConversionWarning: Data with input dtype int64 was converted to float64 by StandardScaler.\n",
      "  warnings.warn(msg, DataConversionWarning)\n",
      "G:\\Anaconda3\\lib\\site-packages\\sklearn\\utils\\validation.py:595: DataConversionWarning: Data with input dtype uint8 was converted to float64 by StandardScaler.\n",
      "  warnings.warn(msg, DataConversionWarning)\n",
      "G:\\Anaconda3\\lib\\site-packages\\sklearn\\utils\\validation.py:595: DataConversionWarning: Data with input dtype uint8 was converted to float64 by StandardScaler.\n",
      "  warnings.warn(msg, DataConversionWarning)\n",
      "G:\\Anaconda3\\lib\\site-packages\\sklearn\\utils\\validation.py:595: DataConversionWarning: Data with input dtype uint8 was converted to float64 by StandardScaler.\n",
      "  warnings.warn(msg, DataConversionWarning)\n",
      "G:\\Anaconda3\\lib\\site-packages\\sklearn\\utils\\validation.py:595: DataConversionWarning: Data with input dtype uint8 was converted to float64 by StandardScaler.\n",
      "  warnings.warn(msg, DataConversionWarning)\n",
      "G:\\Anaconda3\\lib\\site-packages\\sklearn\\utils\\validation.py:595: DataConversionWarning: Data with input dtype uint8 was converted to float64 by StandardScaler.\n",
      "  warnings.warn(msg, DataConversionWarning)\n",
      "G:\\Anaconda3\\lib\\site-packages\\sklearn\\utils\\validation.py:595: DataConversionWarning: Data with input dtype uint8 was converted to float64 by StandardScaler.\n",
      "  warnings.warn(msg, DataConversionWarning)\n",
      "G:\\Anaconda3\\lib\\site-packages\\sklearn\\utils\\validation.py:595: DataConversionWarning: Data with input dtype uint8 was converted to float64 by StandardScaler.\n",
      "  warnings.warn(msg, DataConversionWarning)\n",
      "G:\\Anaconda3\\lib\\site-packages\\sklearn\\utils\\validation.py:595: DataConversionWarning: Data with input dtype uint8 was converted to float64 by StandardScaler.\n",
      "  warnings.warn(msg, DataConversionWarning)\n",
      "G:\\Anaconda3\\lib\\site-packages\\sklearn\\utils\\validation.py:595: DataConversionWarning: Data with input dtype uint8 was converted to float64 by StandardScaler.\n",
      "  warnings.warn(msg, DataConversionWarning)\n",
      "G:\\Anaconda3\\lib\\site-packages\\sklearn\\utils\\validation.py:595: DataConversionWarning: Data with input dtype uint8 was converted to float64 by StandardScaler.\n",
      "  warnings.warn(msg, DataConversionWarning)\n",
      "G:\\Anaconda3\\lib\\site-packages\\sklearn\\utils\\validation.py:595: DataConversionWarning: Data with input dtype uint8 was converted to float64 by StandardScaler.\n",
      "  warnings.warn(msg, DataConversionWarning)\n",
      "G:\\Anaconda3\\lib\\site-packages\\sklearn\\utils\\validation.py:595: DataConversionWarning: Data with input dtype uint8 was converted to float64 by StandardScaler.\n",
      "  warnings.warn(msg, DataConversionWarning)\n",
      "G:\\Anaconda3\\lib\\site-packages\\sklearn\\utils\\validation.py:595: DataConversionWarning: Data with input dtype int64 was converted to float64 by StandardScaler.\n",
      "  warnings.warn(msg, DataConversionWarning)\n",
      "G:\\Anaconda3\\lib\\site-packages\\sklearn\\utils\\validation.py:595: DataConversionWarning: Data with input dtype int64 was converted to float64 by StandardScaler.\n",
      "  warnings.warn(msg, DataConversionWarning)\n",
      "G:\\Anaconda3\\lib\\site-packages\\sklearn\\utils\\validation.py:595: DataConversionWarning: Data with input dtype uint8 was converted to float64 by StandardScaler.\n",
      "  warnings.warn(msg, DataConversionWarning)\n",
      "G:\\Anaconda3\\lib\\site-packages\\sklearn\\utils\\validation.py:595: DataConversionWarning: Data with input dtype uint8 was converted to float64 by StandardScaler.\n",
      "  warnings.warn(msg, DataConversionWarning)\n",
      "G:\\Anaconda3\\lib\\site-packages\\sklearn\\utils\\validation.py:595: DataConversionWarning: Data with input dtype uint8 was converted to float64 by StandardScaler.\n",
      "  warnings.warn(msg, DataConversionWarning)\n",
      "G:\\Anaconda3\\lib\\site-packages\\sklearn\\utils\\validation.py:595: DataConversionWarning: Data with input dtype uint8 was converted to float64 by StandardScaler.\n",
      "  warnings.warn(msg, DataConversionWarning)\n",
      "G:\\Anaconda3\\lib\\site-packages\\sklearn\\utils\\validation.py:595: DataConversionWarning: Data with input dtype uint8 was converted to float64 by StandardScaler.\n",
      "  warnings.warn(msg, DataConversionWarning)\n",
      "G:\\Anaconda3\\lib\\site-packages\\sklearn\\utils\\validation.py:595: DataConversionWarning: Data with input dtype uint8 was converted to float64 by StandardScaler.\n",
      "  warnings.warn(msg, DataConversionWarning)\n",
      "G:\\Anaconda3\\lib\\site-packages\\sklearn\\utils\\validation.py:595: DataConversionWarning: Data with input dtype uint8 was converted to float64 by StandardScaler.\n",
      "  warnings.warn(msg, DataConversionWarning)\n",
      "G:\\Anaconda3\\lib\\site-packages\\sklearn\\utils\\validation.py:595: DataConversionWarning: Data with input dtype uint8 was converted to float64 by StandardScaler.\n",
      "  warnings.warn(msg, DataConversionWarning)\n",
      "G:\\Anaconda3\\lib\\site-packages\\sklearn\\utils\\validation.py:595: DataConversionWarning: Data with input dtype int64 was converted to float64 by StandardScaler.\n",
      "  warnings.warn(msg, DataConversionWarning)\n",
      "G:\\Anaconda3\\lib\\site-packages\\sklearn\\utils\\validation.py:595: DataConversionWarning: Data with input dtype int64 was converted to float64 by StandardScaler.\n",
      "  warnings.warn(msg, DataConversionWarning)\n",
      "G:\\Anaconda3\\lib\\site-packages\\sklearn\\utils\\validation.py:595: DataConversionWarning: Data with input dtype int64 was converted to float64 by StandardScaler.\n",
      "  warnings.warn(msg, DataConversionWarning)\n",
      "G:\\Anaconda3\\lib\\site-packages\\sklearn\\utils\\validation.py:595: DataConversionWarning: Data with input dtype int64 was converted to float64 by StandardScaler.\n",
      "  warnings.warn(msg, DataConversionWarning)\n",
      "G:\\Anaconda3\\lib\\site-packages\\sklearn\\utils\\validation.py:595: DataConversionWarning: Data with input dtype uint8 was converted to float64 by StandardScaler.\n",
      "  warnings.warn(msg, DataConversionWarning)\n",
      "G:\\Anaconda3\\lib\\site-packages\\sklearn\\utils\\validation.py:595: DataConversionWarning: Data with input dtype uint8 was converted to float64 by StandardScaler.\n",
      "  warnings.warn(msg, DataConversionWarning)\n",
      "G:\\Anaconda3\\lib\\site-packages\\sklearn\\utils\\validation.py:595: DataConversionWarning: Data with input dtype uint8 was converted to float64 by StandardScaler.\n",
      "  warnings.warn(msg, DataConversionWarning)\n",
      "G:\\Anaconda3\\lib\\site-packages\\sklearn\\utils\\validation.py:595: DataConversionWarning: Data with input dtype uint8 was converted to float64 by StandardScaler.\n",
      "  warnings.warn(msg, DataConversionWarning)\n",
      "G:\\Anaconda3\\lib\\site-packages\\sklearn\\utils\\validation.py:595: DataConversionWarning: Data with input dtype uint8 was converted to float64 by StandardScaler.\n",
      "  warnings.warn(msg, DataConversionWarning)\n",
      "G:\\Anaconda3\\lib\\site-packages\\sklearn\\utils\\validation.py:595: DataConversionWarning: Data with input dtype uint8 was converted to float64 by StandardScaler.\n",
      "  warnings.warn(msg, DataConversionWarning)\n",
      "G:\\Anaconda3\\lib\\site-packages\\sklearn\\utils\\validation.py:595: DataConversionWarning: Data with input dtype uint8 was converted to float64 by StandardScaler.\n",
      "  warnings.warn(msg, DataConversionWarning)\n",
      "G:\\Anaconda3\\lib\\site-packages\\sklearn\\utils\\validation.py:595: DataConversionWarning: Data with input dtype uint8 was converted to float64 by StandardScaler.\n",
      "  warnings.warn(msg, DataConversionWarning)\n"
     ]
    }
   ],
   "source": [
    "# make a new df with normalized numerical features\n",
    "df_normalized = df.copy()\n",
    "\n",
    "cat_cols = ['Name', 'Nationality', 'Club', 'Preferred Foot', 'Work Rate', 'Attack Work Rate', 'Defensive Work Rate', 'Position', 'Position Category']\n",
    "\n",
    "num_cols = list(set(list(df.columns)) - set(cat_cols))\n",
    "\n",
    "for col in num_cols:\n",
    "    df_normalized[col] = StandardScaler().fit_transform(df_normalized[col].values.reshape(-1, 1))"
   ]
  },
  {
   "cell_type": "code",
   "execution_count": 8,
   "metadata": {},
   "outputs": [],
   "source": [
    "# create dataframes for each group of positions\n",
    "df_gk = df[df['Position'] == 'GK']\n",
    "df_gk_norm = df_normalized[df_normalized['Position'] == 'GK']\n",
    "\n",
    "df_fw = pd.DataFrame()\n",
    "df_am = pd.DataFrame()\n",
    "df_wings = pd.DataFrame()\n",
    "df_cm = pd.DataFrame()\n",
    "df_dm = pd.DataFrame()\n",
    "df_fullback = pd.DataFrame()\n",
    "df_cb = pd.DataFrame()\n",
    "\n",
    "df_fw_norm = pd.DataFrame()\n",
    "df_am_norm = pd.DataFrame()\n",
    "df_wings_norm = pd.DataFrame()\n",
    "df_cm_norm = pd.DataFrame()\n",
    "df_dm_norm = pd.DataFrame()\n",
    "df_fullback_norm = pd.DataFrame()\n",
    "df_cb_norm = pd.DataFrame()\n",
    "\n",
    "def aggregatePositions(df_pos, df_data, positions):\n",
    "    for pos in positions:\n",
    "        df_pos = pd.concat([df_pos, df_data[df_data['Position'] == pos]])\n",
    "    return df_pos\n",
    "\n",
    "df_fw = aggregatePositions(df_fw, df, forward)\n",
    "df_am = aggregatePositions(df_am, df, attack_mid)\n",
    "df_wings = aggregatePositions(df_wings, df, wings)\n",
    "df_cm = aggregatePositions(df_cm, df, central_mid)\n",
    "df_dm = aggregatePositions(df_dm, df, defensive_mid)\n",
    "df_fullback = aggregatePositions(df_fullback, df, fullback)\n",
    "df_cb = aggregatePositions(df_cb, df, cb_def)\n",
    "\n",
    "df_fw_norm = aggregatePositions(df_fw_norm, df_normalized, forward)\n",
    "df_am_norm = aggregatePositions(df_am_norm, df_normalized, attack_mid)\n",
    "df_wings_norm = aggregatePositions(df_wings_norm, df_normalized, wings)\n",
    "df_cm_norm = aggregatePositions(df_cm_norm, df_normalized, central_mid)\n",
    "df_dm_norm = aggregatePositions(df_dm_norm, df_normalized, defensive_mid)\n",
    "df_fullback_norm = aggregatePositions(df_fullback_norm, df_normalized, fullback)\n",
    "df_cb_norm = aggregatePositions(df_cb_norm, df_normalized, cb_def)"
   ]
  },
  {
   "cell_type": "markdown",
   "metadata": {},
   "source": [
    "## Model Training and Evaluation\n",
    "\n",
    "The hypothesis is that feature importance will differ by positions and thus, positions should be stratified by similarity. Hence, a model is required for each group of positions."
   ]
  },
  {
   "cell_type": "code",
   "execution_count": 9,
   "metadata": {},
   "outputs": [],
   "source": [
    "# functions to run models\n",
    "\n",
    "def model_training(model_name, model, X_train, y_train):\n",
    "    model.fit(X_train, y_train)\n",
    "    return model\n",
    "    \n",
    "def model_prediction(model, X_test):\n",
    "    y_pred = model.predict(X_test)\n",
    "    return y_pred\n",
    "\n",
    "def model_evaluation(model_name, y_test, y_pred):\n",
    "    print(model_name)\n",
    "    print('MAE', mean_absolute_error(y_test, y_pred))\n",
    "    print('RMSE', np.sqrt(mean_squared_error(y_test, y_pred)))\n",
    "    #print('r', pearsonr(y_test, y_pred))\n",
    "    plt.scatter(y_test, y_pred, alpha=0.3)\n",
    "    plt.plot(range(0,10), range(0,10), '--r', alpha=0.3, label='Line1')\n",
    "    plt.title(model_name)\n",
    "    plt.xlabel('True Value')\n",
    "    plt.ylabel('Predicted Value')\n",
    "    plt.show()\n",
    "    print('')\n",
    "\n",
    "def run_experiment(model_name, model, X_train, y_train, X_test, y_test):\n",
    "    train_model = model_training(model_name, model, X_train, y_train)\n",
    "    predictions = model_prediction(train_model, X_test)\n",
    "    model_evaluation(model_name, y_test, predictions)\n",
    "    return train_model, predictions"
   ]
  },
  {
   "cell_type": "code",
   "execution_count": 10,
   "metadata": {},
   "outputs": [],
   "source": [
    "X_columns = list(set(num_cols) - set(['Overall']))\n",
    "\n",
    "y_column = ['Overall']"
   ]
  },
  {
   "cell_type": "markdown",
   "metadata": {},
   "source": [
    "### All players considered - no position grouping"
   ]
  },
  {
   "cell_type": "code",
   "execution_count": 11,
   "metadata": {
    "scrolled": false
   },
   "outputs": [
    {
     "name": "stdout",
     "output_type": "stream",
     "text": [
      "Linear Regression - All Players\n",
      "MAE 1.3358646490038644\n",
      "RMSE 1.6903452402170613\n"
     ]
    },
    {
     "data": {
      "image/png": "[encoded data removed]",
      "text/plain": [
       "<Figure size 432x288 with 1 Axes>"
      ]
     },
     "metadata": {
      "needs_background": "light"
     },
     "output_type": "display_data"
    },
    {
     "name": "stdout",
     "output_type": "stream",
     "text": [
      "\n",
      "Random Forest Regression - All Players\n",
      "MAE 0.24097191629955966\n",
      "RMSE 0.45499857796166415\n"
     ]
    },
    {
     "data": {
      "image/png": "[encoded data removed]",
      "text/plain": [
       "<Figure size 432x288 with 1 Axes>"
      ]
     },
     "metadata": {
      "needs_background": "light"
     },
     "output_type": "display_data"
    },
    {
     "name": "stdout",
     "output_type": "stream",
     "text": [
      "\n",
      "Decision Tree Regression - All Players\n",
      "MAE 0.2767070484581498\n",
      "RMSE 0.7104087673586863\n"
     ]
    },
    {
     "data": {
      "image/png": "[encoded data removed]",
      "text/plain": [
       "<Figure size 432x288 with 1 Axes>"
      ]
     },
     "metadata": {
      "needs_background": "light"
     },
     "output_type": "display_data"
    },
    {
     "name": "stdout",
     "output_type": "stream",
     "text": [
      "\n",
      "KNN Regression - All Players\n",
      "MAE 0.21595033098522265\n",
      "RMSE 0.27556146594481223\n"
     ]
    },
    {
     "data": {
      "image/png": "[encoded data removed]",
      "text/plain": [
       "<Figure size 432x288 with 1 Axes>"
      ]
     },
     "metadata": {
      "needs_background": "light"
     },
     "output_type": "display_data"
    },
    {
     "name": "stdout",
     "output_type": "stream",
     "text": [
      "\n"
     ]
    }
   ],
   "source": [
    "threshold = 0.8\n",
    "\n",
    "X_all = df[X_columns]\n",
    "y_all = df[y_column]\n",
    "\n",
    "X_all_norm = df_normalized[X_columns]\n",
    "y_all_norm = df_normalized[y_column]\n",
    "\n",
    "X_all_train, X_all_test, y_all_train, y_all_test = train_test_split(X_all, y_all, test_size=1.0-threshold, shuffle=True)\n",
    "X_allnorm_train, X_allnorm_test, y_allnorm_train, y_allnorm_test = train_test_split(X_all_norm, y_all_norm, test_size=1.0-threshold, shuffle=True)\n",
    "\n",
    "all_Lin_model, all_Lin_pred = run_experiment('Linear Regression - All Players', LinearRegression(), X_all_train, y_all_train, X_all_test, y_all_test)\n",
    "all_RF_model, all_RF_pred = run_experiment('Random Forest Regression - All Players', RandomForestRegressor(100), X_all_train, y_all_train.values.ravel(), X_all_test, y_all_test)\n",
    "\n",
    "# all_LinNorm_model, all_LinNorm_pred = run_experiment('Linear Regression Normalized - All Players', LinearRegression(), X_allnorm_train, y_allnorm_train, X_allnorm_test, y_allnorm_test)\n",
    "all_DT_model, all_DT_pred = run_experiment('Decision Tree Regression - All Players', DecisionTreeRegressor(), X_all_train, y_all_train, X_all_test, y_all_test)\n",
    "all_KNN_model, all_KNN_pred = run_experiment('KNN Regression - All Players', KNeighborsRegressor(), X_allnorm_train, y_allnorm_train, X_allnorm_test, y_allnorm_test)"
   ]
  },
  {
   "cell_type": "markdown",
   "metadata": {},
   "source": [
    "### Specific Position Groupings"
   ]
  },
  {
   "cell_type": "code",
   "execution_count": 12,
   "metadata": {},
   "outputs": [],
   "source": [
    "threshold = 0.8\n",
    "\n",
    "X_fw = df_fw[X_columns]\n",
    "X_am = df_am[X_columns]\n",
    "X_wings = df_wings[X_columns]\n",
    "X_cm = df_cm[X_columns]\n",
    "X_dm = df_dm[X_columns]\n",
    "X_fullback = df_fullback[X_columns]\n",
    "X_cb = df_cb[X_columns]\n",
    "X_gk = df_gk[X_columns]\n",
    "\n",
    "X_fw_norm = df_fw_norm[X_columns]\n",
    "X_am_norm = df_am_norm[X_columns]\n",
    "X_wings_norm = df_wings_norm[X_columns]\n",
    "X_cm_norm = df_cm_norm[X_columns]\n",
    "X_dm_norm = df_dm_norm[X_columns]\n",
    "X_fullback_norm = df_fullback_norm[X_columns]\n",
    "X_cb_norm = df_cb_norm[X_columns]\n",
    "X_gk_norm = df_gk_norm[X_columns]\n",
    "\n",
    "y_fw = df_fw[y_column]\n",
    "y_am = df_am[y_column]\n",
    "y_wings = df_wings[y_column]\n",
    "y_cm = df_cm[y_column]\n",
    "y_dm = df_dm[y_column]\n",
    "y_fullback = df_fullback[y_column]\n",
    "y_cb = df_cb[y_column]\n",
    "y_gk = df_gk[y_column]\n",
    "\n",
    "y_fw_norm = df_fw_norm[y_column]\n",
    "y_am_norm = df_am_norm[y_column]\n",
    "y_wings_norm = df_wings_norm[y_column]\n",
    "y_cm_norm = df_cm_norm[y_column]\n",
    "y_dm_norm = df_dm_norm[y_column]\n",
    "y_fullback_norm = df_fullback_norm[y_column]\n",
    "y_cb_norm = df_cb_norm[y_column]\n",
    "y_gk_norm = df_gk_norm[y_column]"
   ]
  },
  {
   "cell_type": "code",
   "execution_count": 13,
   "metadata": {
    "scrolled": false
   },
   "outputs": [
    {
     "name": "stdout",
     "output_type": "stream",
     "text": [
      "Linear Regression - FW\n",
      "MAE 0.41904848685648555\n",
      "RMSE 0.6538799143724295\n"
     ]
    },
    {
     "data": {
      "image/png": "[encoded data removed]",
      "text/plain": [
       "<Figure size 432x288 with 1 Axes>"
      ]
     },
     "metadata": {
      "needs_background": "light"
     },
     "output_type": "display_data"
    },
    {
     "name": "stdout",
     "output_type": "stream",
     "text": [
      "\n",
      "Random Forest Regression - FW\n",
      "MAE 0.38859550561797773\n",
      "RMSE 0.5906419094244323\n"
     ]
    },
    {
     "data": {
      "image/png": "[encoded data removed]",
      "text/plain": [
       "<Figure size 432x288 with 1 Axes>"
      ]
     },
     "metadata": {
      "needs_background": "light"
     },
     "output_type": "display_data"
    },
    {
     "name": "stdout",
     "output_type": "stream",
     "text": [
      "\n",
      "Decision Tree Regression - FW\n",
      "MAE 0.41385767790262173\n",
      "RMSE 0.8708771246807064\n"
     ]
    },
    {
     "data": {
      "image/png": "[encoded data removed]",
      "text/plain": [
       "<Figure size 432x288 with 1 Axes>"
      ]
     },
     "metadata": {
      "needs_background": "light"
     },
     "output_type": "display_data"
    },
    {
     "name": "stdout",
     "output_type": "stream",
     "text": [
      "\n",
      "KNN Regression - FW\n",
      "MAE 0.21802119528962077\n",
      "RMSE 0.27531628689032733\n"
     ]
    },
    {
     "data": {
      "image/png": "[encoded data removed]",
      "text/plain": [
       "<Figure size 432x288 with 1 Axes>"
      ]
     },
     "metadata": {
      "needs_background": "light"
     },
     "output_type": "display_data"
    },
    {
     "name": "stdout",
     "output_type": "stream",
     "text": [
      "\n",
      "Linear Regression - Attacking Midfield\n",
      "MAE 0.6705387384315193\n",
      "RMSE 0.8566150205662847\n"
     ]
    },
    {
     "data": {
      "image/png": "[encoded data removed]",
      "text/plain": [
       "<Figure size 432x288 with 1 Axes>"
      ]
     },
     "metadata": {
      "needs_background": "light"
     },
     "output_type": "display_data"
    },
    {
     "name": "stdout",
     "output_type": "stream",
     "text": [
      "\n",
      "Random Forest Regression - Attacking Midfield\n",
      "MAE 0.5022000000000001\n",
      "RMSE 0.7084165441320526\n"
     ]
    },
    {
     "data": {
      "image/png": "[encoded data removed]",
      "text/plain": [
       "<Figure size 432x288 with 1 Axes>"
      ]
     },
     "metadata": {
      "needs_background": "light"
     },
     "output_type": "display_data"
    },
    {
     "name": "stdout",
     "output_type": "stream",
     "text": [
      "\n",
      "Decision Tree Regression - AM\n",
      "MAE 0.59\n",
      "RMSE 0.9486832980505138\n"
     ]
    },
    {
     "data": {
      "image/png": "[encoded data removed]",
      "text/plain": [
       "<Figure size 432x288 with 1 Axes>"
      ]
     },
     "metadata": {
      "needs_background": "light"
     },
     "output_type": "display_data"
    },
    {
     "name": "stdout",
     "output_type": "stream",
     "text": [
      "\n",
      "KNN Regression - AM\n",
      "MAE 0.20811572051133187\n",
      "RMSE 0.2665266998038533\n"
     ]
    },
    {
     "data": {
      "image/png": "[encoded data removed]",
      "text/plain": [
       "<Figure size 432x288 with 1 Axes>"
      ]
     },
     "metadata": {
      "needs_background": "light"
     },
     "output_type": "display_data"
    },
    {
     "name": "stdout",
     "output_type": "stream",
     "text": [
      "\n",
      "Linear Regression - Wings\n",
      "MAE 0.576765616530483\n",
      "RMSE 0.8520619031616734\n"
     ]
    },
    {
     "data": {
      "image/png": "[encoded data removed]",
      "text/plain": [
       "<Figure size 432x288 with 1 Axes>"
      ]
     },
     "metadata": {
      "needs_background": "light"
     },
     "output_type": "display_data"
    },
    {
     "name": "stdout",
     "output_type": "stream",
     "text": [
      "\n",
      "Random Forest Regression - Wings\n",
      "MAE 0.43865319865319896\n",
      "RMSE 0.6697615033580773\n"
     ]
    },
    {
     "data": {
      "image/png": "[encoded data removed]",
      "text/plain": [
       "<Figure size 432x288 with 1 Axes>"
      ]
     },
     "metadata": {
      "needs_background": "light"
     },
     "output_type": "display_data"
    },
    {
     "name": "stdout",
     "output_type": "stream",
     "text": [
      "\n",
      "Decision Tree Regression - Wings\n",
      "MAE 0.569023569023569\n",
      "RMSE 0.9830208371799483\n"
     ]
    },
    {
     "data": {
      "image/png": "[encoded data removed]",
      "text/plain": [
       "<Figure size 432x288 with 1 Axes>"
      ]
     },
     "metadata": {
      "needs_background": "light"
     },
     "output_type": "display_data"
    },
    {
     "name": "stdout",
     "output_type": "stream",
     "text": [
      "\n",
      "KNN Regression - Wings\n",
      "MAE 0.214746568641002\n",
      "RMSE 0.26763005621020886\n"
     ]
    },
    {
     "data": {
      "image/png": "[encoded data removed]",
      "text/plain": [
       "<Figure size 432x288 with 1 Axes>"
      ]
     },
     "metadata": {
      "needs_background": "light"
     },
     "output_type": "display_data"
    },
    {
     "name": "stdout",
     "output_type": "stream",
     "text": [
      "\n",
      "Linear Regression - Central Midfield\n",
      "MAE 0.7394743658015878\n",
      "RMSE 1.0512263471910737\n"
     ]
    },
    {
     "data": {
      "image/png": "[encoded data removed]",
      "text/plain": [
       "<Figure size 432x288 with 1 Axes>"
      ]
     },
     "metadata": {
      "needs_background": "light"
     },
     "output_type": "display_data"
    },
    {
     "name": "stdout",
     "output_type": "stream",
     "text": [
      "\n",
      "Random Forest Regression - Central Midfield\n",
      "MAE 0.5118119266055047\n",
      "RMSE 0.7484110078675004\n"
     ]
    },
    {
     "data": {
      "image/png": "[encoded data removed]",
      "text/plain": [
       "<Figure size 432x288 with 1 Axes>"
      ]
     },
     "metadata": {
      "needs_background": "light"
     },
     "output_type": "display_data"
    },
    {
     "name": "stdout",
     "output_type": "stream",
     "text": [
      "\n",
      "Decision Tree Regression - CM\n",
      "MAE 0.591743119266055\n",
      "RMSE 1.1004586199907413\n"
     ]
    },
    {
     "data": {
      "image/png": "[encoded data removed]",
      "text/plain": [
       "<Figure size 432x288 with 1 Axes>"
      ]
     },
     "metadata": {
      "needs_background": "light"
     },
     "output_type": "display_data"
    },
    {
     "name": "stdout",
     "output_type": "stream",
     "text": [
      "\n",
      "KNN Regression - CM\n",
      "MAE 0.2110334352176737\n",
      "RMSE 0.2699406558034612\n"
     ]
    },
    {
     "data": {
      "image/png": "[encoded data removed]",
      "text/plain": [
       "<Figure size 432x288 with 1 Axes>"
      ]
     },
     "metadata": {
      "needs_background": "light"
     },
     "output_type": "display_data"
    },
    {
     "name": "stdout",
     "output_type": "stream",
     "text": [
      "\n",
      "Linear Regression - Defensive Midfield\n",
      "MAE 0.7928346660402086\n",
      "RMSE 1.1469785250432643\n"
     ]
    },
    {
     "data": {
      "image/png": "[encoded data removed]",
      "text/plain": [
       "<Figure size 432x288 with 1 Axes>"
      ]
     },
     "metadata": {
      "needs_background": "light"
     },
     "output_type": "display_data"
    },
    {
     "name": "stdout",
     "output_type": "stream",
     "text": [
      "\n",
      "Random Forest Regression - Defensive Midfield\n",
      "MAE 0.44944444444444426\n",
      "RMSE 0.6553990514691536\n"
     ]
    },
    {
     "data": {
      "image/png": "[encoded data removed]",
      "text/plain": [
       "<Figure size 432x288 with 1 Axes>"
      ]
     },
     "metadata": {
      "needs_background": "light"
     },
     "output_type": "display_data"
    },
    {
     "name": "stdout",
     "output_type": "stream",
     "text": [
      "\n",
      "Decision Tree Regression - DM\n",
      "MAE 0.5972222222222222\n",
      "RMSE 1.044163673845139\n"
     ]
    },
    {
     "data": {
      "image/png": "[encoded data removed]",
      "text/plain": [
       "<Figure size 432x288 with 1 Axes>"
      ]
     },
     "metadata": {
      "needs_background": "light"
     },
     "output_type": "display_data"
    },
    {
     "name": "stdout",
     "output_type": "stream",
     "text": [
      "\n",
      "KNN Regression - DM\n",
      "MAE 0.21593351821257217\n",
      "RMSE 0.28181312403971637\n"
     ]
    },
    {
     "data": {
      "image/png": "[encoded data removed]",
      "text/plain": [
       "<Figure size 432x288 with 1 Axes>"
      ]
     },
     "metadata": {
      "needs_background": "light"
     },
     "output_type": "display_data"
    },
    {
     "name": "stdout",
     "output_type": "stream",
     "text": [
      "\n",
      "Linear Regression - Fullback\n",
      "MAE 0.5060933931268377\n",
      "RMSE 0.8082948125482169\n"
     ]
    },
    {
     "data": {
      "image/png": "[encoded data removed]",
      "text/plain": [
       "<Figure size 432x288 with 1 Axes>"
      ]
     },
     "metadata": {
      "needs_background": "light"
     },
     "output_type": "display_data"
    },
    {
     "name": "stdout",
     "output_type": "stream",
     "text": [
      "\n",
      "Random Forest Regression - Fullback\n",
      "MAE 0.3988309352517986\n",
      "RMSE 0.5923236464621968\n"
     ]
    },
    {
     "data": {
      "image/png": "[encoded data removed]",
      "text/plain": [
       "<Figure size 432x288 with 1 Axes>"
      ]
     },
     "metadata": {
      "needs_background": "light"
     },
     "output_type": "display_data"
    },
    {
     "name": "stdout",
     "output_type": "stream",
     "text": [
      "\n",
      "Decision Tree Regression - Fullback\n",
      "MAE 0.4064748201438849\n",
      "RMSE 0.961488653939648\n"
     ]
    },
    {
     "data": {
      "image/png": "[encoded data removed]",
      "text/plain": [
       "<Figure size 432x288 with 1 Axes>"
      ]
     },
     "metadata": {
      "needs_background": "light"
     },
     "output_type": "display_data"
    },
    {
     "name": "stdout",
     "output_type": "stream",
     "text": [
      "\n",
      "KNN Regression - Fullback\n",
      "MAE 0.21886272846130486\n",
      "RMSE 0.2823931391064232\n"
     ]
    },
    {
     "data": {
      "image/png": "[encoded data removed]",
      "text/plain": [
       "<Figure size 432x288 with 1 Axes>"
      ]
     },
     "metadata": {
      "needs_background": "light"
     },
     "output_type": "display_data"
    },
    {
     "name": "stdout",
     "output_type": "stream",
     "text": [
      "\n",
      "Linear Regression - Centre Back\n",
      "MAE 0.2906692042633361\n",
      "RMSE 0.44273173796993215\n"
     ]
    },
    {
     "data": {
      "image/png": "[encoded data removed]",
      "text/plain": [
       "<Figure size 432x288 with 1 Axes>"
      ]
     },
     "metadata": {
      "needs_background": "light"
     },
     "output_type": "display_data"
    },
    {
     "name": "stdout",
     "output_type": "stream",
     "text": [
      "\n",
      "Random Forest Regression - Centre Back\n",
      "MAE 0.3673948220064729\n",
      "RMSE 0.5115546771384907\n"
     ]
    },
    {
     "data": {
      "image/png": "[encoded data removed]",
      "text/plain": [
       "<Figure size 432x288 with 1 Axes>"
      ]
     },
     "metadata": {
      "needs_background": "light"
     },
     "output_type": "display_data"
    },
    {
     "name": "stdout",
     "output_type": "stream",
     "text": [
      "\n",
      "Decision Tree Regression - CB\n",
      "MAE 0.3155339805825243\n",
      "RMSE 0.6523544611958066\n"
     ]
    },
    {
     "data": {
      "image/png": "[encoded data removed]",
      "text/plain": [
       "<Figure size 432x288 with 1 Axes>"
      ]
     },
     "metadata": {
      "needs_background": "light"
     },
     "output_type": "display_data"
    },
    {
     "name": "stdout",
     "output_type": "stream",
     "text": [
      "\n",
      "KNN Regression - CB\n",
      "MAE 0.22157148435529106\n",
      "RMSE 0.2833061001990832\n"
     ]
    },
    {
     "data": {
      "image/png": "[encoded data removed]",
      "text/plain": [
       "<Figure size 432x288 with 1 Axes>"
      ]
     },
     "metadata": {
      "needs_background": "light"
     },
     "output_type": "display_data"
    },
    {
     "name": "stdout",
     "output_type": "stream",
     "text": [
      "\n",
      "Linear Regression - Goalkeeper\n",
      "MAE 0.27069446324872\n",
      "RMSE 0.31399783953019417\n"
     ]
    },
    {
     "data": {
      "image/png": "[encoded data removed]",
      "text/plain": [
       "<Figure size 432x288 with 1 Axes>"
      ]
     },
     "metadata": {
      "needs_background": "light"
     },
     "output_type": "display_data"
    },
    {
     "name": "stdout",
     "output_type": "stream",
     "text": [
      "\n",
      "Random Forest Regression - Goalkeeper\n",
      "MAE 0.4689382716049383\n",
      "RMSE 0.6209375627147414\n"
     ]
    },
    {
     "data": {
      "image/png": "[encoded data removed]",
      "text/plain": [
       "<Figure size 432x288 with 1 Axes>"
      ]
     },
     "metadata": {
      "needs_background": "light"
     },
     "output_type": "display_data"
    },
    {
     "name": "stdout",
     "output_type": "stream",
     "text": [
      "\n",
      "Decision Tree Regression - GK\n",
      "MAE 1.002469135802469\n",
      "RMSE 1.4350119369744836\n"
     ]
    },
    {
     "data": {
      "image/png": "[encoded data removed]",
      "text/plain": [
       "<Figure size 432x288 with 1 Axes>"
      ]
     },
     "metadata": {
      "needs_background": "light"
     },
     "output_type": "display_data"
    },
    {
     "name": "stdout",
     "output_type": "stream",
     "text": [
      "\n",
      "KNN Regression - GK\n",
      "MAE 0.2535405443818935\n",
      "RMSE 0.31103456603344165\n"
     ]
    },
    {
     "data": {
      "image/png": "[encoded data removed]",
      "text/plain": [
       "<Figure size 432x288 with 1 Axes>"
      ]
     },
     "metadata": {
      "needs_background": "light"
     },
     "output_type": "display_data"
    },
    {
     "name": "stdout",
     "output_type": "stream",
     "text": [
      "\n"
     ]
    }
   ],
   "source": [
    "# FW\n",
    "X_fw_train, X_fw_test, y_fw_train, y_fw_test = train_test_split(X_fw, y_fw, test_size=1.0-threshold, shuffle=True)\n",
    "X_fwnorm_train, X_fwnorm_test, y_fwnorm_train, y_fwnorm_test = train_test_split(X_fw_norm, y_fw_norm, test_size=1.0-threshold, shuffle=True)\n",
    "\n",
    "fw_LinReg_model, fw_LinReg_pred = run_experiment('Linear Regression - FW', LinearRegression(), X_fw_train, y_fw_train, X_fw_test, y_fw_test)\n",
    "fw_RF_model, fw_RF_pred = run_experiment('Random Forest Regression - FW', RandomForestRegressor(100), X_fw_train, y_fw_train.values.ravel(), X_fw_test, y_fw_test)\n",
    "\n",
    "# fw_LinNorm_model, fw_LinNorm_pred = run_experiment('Linear Regression Normalized - FW', LinearRegression(), X_fwnorm_train, y_fwnorm_train, X_fwnorm_test, y_fwnorm_test)\n",
    "fw_DT_model, fw_DT_pred = run_experiment('Decision Tree Regression - FW', DecisionTreeRegressor(), X_fw_train, y_fw_train, X_fw_test, y_fw_test)\n",
    "fw_KNN_model, fw_KNN_pred = run_experiment('KNN Regression - FW', KNeighborsRegressor(), X_fwnorm_train, y_fwnorm_train, X_fwnorm_test, y_fwnorm_test)\n",
    "\n",
    "# Attacking Midfield\n",
    "X_am_train, X_am_test, y_am_train, y_am_test = train_test_split(X_am, y_am, test_size=1.0-threshold, shuffle=True)\n",
    "X_amnorm_train, X_amnorm_test, y_amnorm_train, y_amnorm_test = train_test_split(X_am_norm, y_am_norm, test_size=1.0-threshold, shuffle=True)\n",
    "\n",
    "am_LinReg_model, am_LinReg_pred = run_experiment('Linear Regression - Attacking Midfield', LinearRegression(), X_am_train, y_am_train, X_am_test, y_am_test)\n",
    "am_RF_model, am_RF_pred = run_experiment('Random Forest Regression - Attacking Midfield', RandomForestRegressor(100), X_am_train, y_am_train.values.ravel(), X_am_test, y_am_test)\n",
    "\n",
    "# am_LinNorm_model, am_LinNorm_pred = run_experiment('Linear Regression Normalized - AM', LinearRegression(), X_amnorm_train, y_amnorm_train, X_amnorm_test, y_amnorm_test)\n",
    "am_DT_model, am_DT_pred = run_experiment('Decision Tree Regression - AM', DecisionTreeRegressor(), X_am_train, y_am_train, X_am_test, y_am_test)\n",
    "am_KNN_model, am_KNN_pred = run_experiment('KNN Regression - AM', KNeighborsRegressor(), X_amnorm_train, y_amnorm_train, X_amnorm_test, y_amnorm_test)\n",
    "\n",
    "# Wings\n",
    "X_wings_train, X_wings_test, y_wings_train, y_wings_test = train_test_split(X_wings, y_wings, test_size=1.0-threshold, shuffle=True)\n",
    "X_wingsnorm_train, X_wingsnorm_test, y_wingsnorm_train, y_wingsnorm_test = train_test_split(X_wings_norm, y_wings_norm, test_size=1.0-threshold, shuffle=True)\n",
    "\n",
    "wings_LinReg_model, wings_LinReg_pred = run_experiment('Linear Regression - Wings', LinearRegression(), X_wings_train, y_wings_train, X_wings_test, y_wings_test)\n",
    "wings_RF_model, wings_RF_pred = run_experiment('Random Forest Regression - Wings', RandomForestRegressor(100), X_wings_train, y_wings_train.values.ravel(), X_wings_test, y_wings_test)\n",
    "\n",
    "# wings_LinNorm_model, wings_LinNorm_pred = run_experiment('Linear Regression Normalized - Wings', LinearRegression(), X_wingsnorm_train, y_wingsnorm_train, X_wingsnorm_test, y_wingsnorm_test)\n",
    "wings_DT_model, wings_DT_pred = run_experiment('Decision Tree Regression - Wings', DecisionTreeRegressor(), X_wings_train, y_wings_train, X_wings_test, y_wings_test)\n",
    "wings_KNN_model, wings_KNN_pred = run_experiment('KNN Regression - Wings', KNeighborsRegressor(), X_wingsnorm_train, y_wingsnorm_train, X_wingsnorm_test, y_wingsnorm_test)\n",
    "\n",
    "# Central Midfield\n",
    "X_cm_train, X_cm_test, y_cm_train, y_cm_test = train_test_split(X_cm, y_cm, test_size=1.0-threshold, shuffle=True)\n",
    "X_cmnorm_train, X_cmnorm_test, y_cmnorm_train, y_cmnorm_test = train_test_split(X_cm_norm, y_cm_norm, test_size=1.0-threshold, shuffle=True)\n",
    "\n",
    "cm_LinReg_model, cm_LinReg_pred = run_experiment('Linear Regression - Central Midfield', LinearRegression(), X_cm_train, y_cm_train, X_cm_test, y_cm_test)\n",
    "cm_RF_model, cm_RF_pred = run_experiment('Random Forest Regression - Central Midfield', RandomForestRegressor(100), X_cm_train, y_cm_train.values.ravel(), X_cm_test, y_cm_test)\n",
    "\n",
    "# cm_LinNorm_model, cm_LinNorm_pred = run_experiment('Linear Regression Normalized - CM', LinearRegression(), X_cmnorm_train, y_cmnorm_train, X_cmnorm_test, y_cmnorm_test)\n",
    "cm_DT_model, cm_DT_pred = run_experiment('Decision Tree Regression - CM', DecisionTreeRegressor(), X_cm_train, y_cm_train, X_cm_test, y_cm_test)\n",
    "cm_KNN_model, cm_KNN_pred = run_experiment('KNN Regression - CM', KNeighborsRegressor(), X_cmnorm_train, y_cmnorm_train, X_cmnorm_test, y_cmnorm_test)\n",
    "\n",
    "# Defensive Midfield\n",
    "X_dm_train, X_dm_test, y_dm_train, y_dm_test = train_test_split(X_dm, y_dm, test_size=1.0-threshold, shuffle=True)\n",
    "X_dmnorm_train, X_dmnorm_test, y_dmnorm_train, y_dmnorm_test = train_test_split(X_dm_norm, y_dm_norm, test_size=1.0-threshold, shuffle=True)\n",
    "\n",
    "dm_LinReg_model, dm_LinReg_pred = run_experiment('Linear Regression - Defensive Midfield', LinearRegression(), X_dm_train, y_dm_train, X_dm_test, y_dm_test)\n",
    "dm_RF_model, dm_RF_pred = run_experiment('Random Forest Regression - Defensive Midfield', RandomForestRegressor(100), X_dm_train, y_dm_train.values.ravel(), X_dm_test, y_dm_test)\n",
    "\n",
    "# dm_LinNorm_model, dm_LinNorm_pred = run_experiment('Linear Regression Normalized - DM', LinearRegression(), X_dmnorm_train, y_dmnorm_train, X_dmnorm_test, y_dmnorm_test)\n",
    "dm_DT_model, dm_DT_pred = run_experiment('Decision Tree Regression - DM', DecisionTreeRegressor(), X_dm_train, y_dm_train, X_dm_test, y_dm_test)\n",
    "dm_KNN_model, dm_KNN_pred = run_experiment('KNN Regression - DM', KNeighborsRegressor(), X_dmnorm_train, y_dmnorm_train, X_dmnorm_test, y_dmnorm_test)\n",
    "\n",
    "# Fullback\n",
    "X_fullback_train, X_fullback_test, y_fullback_train, y_fullback_test = train_test_split(X_fullback, y_fullback, test_size=1.0-threshold, shuffle=True)\n",
    "X_fullbacknorm_train, X_fullbacknorm_test, y_fullbacknorm_train, y_fullbacknorm_test = train_test_split(X_fullback_norm, y_fullback_norm, test_size=1.0-threshold, shuffle=True)\n",
    "\n",
    "fullback_LinReg_model, fullback_LinReg_pred = run_experiment('Linear Regression - Fullback', LinearRegression(), X_fullback_train, y_fullback_train, X_fullback_test, y_fullback_test)\n",
    "fullback_RF_model, fullback_RF_pred = run_experiment('Random Forest Regression - Fullback', RandomForestRegressor(100), X_fullback_train, y_fullback_train.values.ravel(), X_fullback_test, y_fullback_test)\n",
    "\n",
    "# fullback_LinNorm_model, fullback_LinNorm_pred = run_experiment('Linear Regression Normalized - Fullback', LinearRegression(), X_fullbacknorm_train, y_fullbacknorm_train, X_fullbacknorm_test, y_fullbacknorm_test)\n",
    "fullback_DT_model, fullback_DT_pred = run_experiment('Decision Tree Regression - Fullback', DecisionTreeRegressor(), X_fullback_train, y_fullback_train, X_fullback_test, y_fullback_test)\n",
    "fullback_KNN_model, fullback_KNN_pred = run_experiment('KNN Regression - Fullback', KNeighborsRegressor(), X_fullbacknorm_train, y_fullbacknorm_train, X_fullbacknorm_test, y_fullbacknorm_test)\n",
    "\n",
    "# Centre Back\n",
    "X_cb_train, X_cb_test, y_cb_train, y_cb_test = train_test_split(X_cb, y_cb, test_size=1.0-threshold, shuffle=True)\n",
    "X_cbnorm_train, X_cbnorm_test, y_cbnorm_train, y_cbnorm_test = train_test_split(X_cb_norm, y_cb_norm, test_size=1.0-threshold, shuffle=True)\n",
    "\n",
    "cb_LinReg_model, cb_LinReg_pred = run_experiment('Linear Regression - Centre Back', LinearRegression(), X_cb_train, y_cb_train, X_cb_test, y_cb_test)\n",
    "cb_RF_model, cb_RF_pred = run_experiment('Random Forest Regression - Centre Back', RandomForestRegressor(100), X_cb_train, y_cb_train.values.ravel(), X_cb_test, y_cb_test)\n",
    "\n",
    "# cb_LinNorm_model, cb_LinNorm_pred = run_experiment('Linear Regression Normalized - CB', LinearRegression(), X_cbnorm_train, y_cbnorm_train, X_cbnorm_test, y_cbnorm_test)\n",
    "cb_DT_model, cb_DT_pred = run_experiment('Decision Tree Regression - CB', DecisionTreeRegressor(), X_cb_train, y_cb_train, X_cb_test, y_cb_test)\n",
    "cb_KNN_model, cb_KNN_pred = run_experiment('KNN Regression - CB', KNeighborsRegressor(), X_cbnorm_train, y_cbnorm_train, X_cbnorm_test, y_cbnorm_test)\n",
    "\n",
    "# GK\n",
    "X_gk_train, X_gk_test, y_gk_train, y_gk_test = train_test_split(X_gk, y_gk, test_size=1.0-threshold, shuffle=True)\n",
    "X_gknorm_train, X_gknorm_test, y_gknorm_train, y_gknorm_test = train_test_split(X_gk_norm, y_gk_norm, test_size=1.0-threshold, shuffle=True)\n",
    "\n",
    "gk_LinReg_model, gk_LinReg_pred = run_experiment('Linear Regression - Goalkeeper', LinearRegression(), X_gk_train, y_gk_train, X_gk_test, y_gk_test)\n",
    "gk_RF_model, gk_RF_pred = run_experiment('Random Forest Regression - Goalkeeper', RandomForestRegressor(100), X_gk_train, y_gk_train.values.ravel(), X_gk_test, y_gk_test)\n",
    "\n",
    "# gk_LinNorm_model, gk_LinNorm_pred = run_experiment('Linear Regression Normalized - GK', LinearRegression(), X_gknorm_train, y_gknorm_train, X_gknorm_test, y_gknorm_test)\n",
    "gk_DT_model, gk_DT_pred = run_experiment('Decision Tree Regression - GK', DecisionTreeRegressor(), X_gk_train, y_gk_train, X_gk_test, y_gk_test)\n",
    "gk_KNN_model, gk_KNN_pred = run_experiment('KNN Regression - GK', KNeighborsRegressor(), X_gknorm_train, y_gknorm_train, X_gknorm_test, y_gknorm_test)"
   ]
  },
  {
   "cell_type": "markdown",
   "metadata": {},
   "source": [
    "## Feature Importance and Error Analysis"
   ]
  },
  {
   "cell_type": "code",
   "execution_count": 14,
   "metadata": {},
   "outputs": [
    {
     "data": {
      "text/html": [
       "<div>\n",
       "<style scoped>\n",
       "    .dataframe tbody tr th:only-of-type {\n",
       "        vertical-align: middle;\n",
       "    }\n",
       "\n",
       "    .dataframe tbody tr th {\n",
       "        vertical-align: top;\n",
       "    }\n",
       "\n",
       "    .dataframe thead th {\n",
       "        text-align: right;\n",
       "    }\n",
       "</style>\n",
       "<table border=\"1\" class=\"dataframe\">\n",
       "  <thead>\n",
       "    <tr style=\"text-align: right;\">\n",
       "      <th></th>\n",
       "      <th>0</th>\n",
       "      <th>1</th>\n",
       "    </tr>\n",
       "  </thead>\n",
       "  <tbody>\n",
       "    <tr>\n",
       "      <th>32</th>\n",
       "      <td>Value</td>\n",
       "      <td>0.853780</td>\n",
       "    </tr>\n",
       "    <tr>\n",
       "      <th>62</th>\n",
       "      <td>Age</td>\n",
       "      <td>0.079936</td>\n",
       "    </tr>\n",
       "    <tr>\n",
       "      <th>38</th>\n",
       "      <td>Potential</td>\n",
       "      <td>0.042483</td>\n",
       "    </tr>\n",
       "    <tr>\n",
       "      <th>83</th>\n",
       "      <td>Reactions</td>\n",
       "      <td>0.010674</td>\n",
       "    </tr>\n",
       "    <tr>\n",
       "      <th>74</th>\n",
       "      <td>Wage</td>\n",
       "      <td>0.004110</td>\n",
       "    </tr>\n",
       "    <tr>\n",
       "      <th>78</th>\n",
       "      <td>Finishing</td>\n",
       "      <td>0.000624</td>\n",
       "    </tr>\n",
       "    <tr>\n",
       "      <th>54</th>\n",
       "      <td>International Reputation</td>\n",
       "      <td>0.000331</td>\n",
       "    </tr>\n",
       "    <tr>\n",
       "      <th>34</th>\n",
       "      <td>GKPositioning</td>\n",
       "      <td>0.000292</td>\n",
       "    </tr>\n",
       "    <tr>\n",
       "      <th>46</th>\n",
       "      <td>GKReflexes</td>\n",
       "      <td>0.000280</td>\n",
       "    </tr>\n",
       "    <tr>\n",
       "      <th>55</th>\n",
       "      <td>Special</td>\n",
       "      <td>0.000248</td>\n",
       "    </tr>\n",
       "    <tr>\n",
       "      <th>0</th>\n",
       "      <td>GKHandling</td>\n",
       "      <td>0.000240</td>\n",
       "    </tr>\n",
       "    <tr>\n",
       "      <th>4</th>\n",
       "      <td>Volleys</td>\n",
       "      <td>0.000235</td>\n",
       "    </tr>\n",
       "    <tr>\n",
       "      <th>20</th>\n",
       "      <td>Penalties</td>\n",
       "      <td>0.000219</td>\n",
       "    </tr>\n",
       "    <tr>\n",
       "      <th>72</th>\n",
       "      <td>GKDiving</td>\n",
       "      <td>0.000200</td>\n",
       "    </tr>\n",
       "    <tr>\n",
       "      <th>79</th>\n",
       "      <td>SlidingTackle</td>\n",
       "      <td>0.000195</td>\n",
       "    </tr>\n",
       "    <tr>\n",
       "      <th>70</th>\n",
       "      <td>CB</td>\n",
       "      <td>0.000192</td>\n",
       "    </tr>\n",
       "    <tr>\n",
       "      <th>30</th>\n",
       "      <td>LCB</td>\n",
       "      <td>0.000185</td>\n",
       "    </tr>\n",
       "    <tr>\n",
       "      <th>18</th>\n",
       "      <td>StandingTackle</td>\n",
       "      <td>0.000180</td>\n",
       "    </tr>\n",
       "    <tr>\n",
       "      <th>36</th>\n",
       "      <td>BallControl</td>\n",
       "      <td>0.000174</td>\n",
       "    </tr>\n",
       "    <tr>\n",
       "      <th>27</th>\n",
       "      <td>Marking</td>\n",
       "      <td>0.000174</td>\n",
       "    </tr>\n",
       "    <tr>\n",
       "      <th>29</th>\n",
       "      <td>ShotPower</td>\n",
       "      <td>0.000165</td>\n",
       "    </tr>\n",
       "    <tr>\n",
       "      <th>76</th>\n",
       "      <td>LongShots</td>\n",
       "      <td>0.000163</td>\n",
       "    </tr>\n",
       "    <tr>\n",
       "      <th>44</th>\n",
       "      <td>Stamina</td>\n",
       "      <td>0.000163</td>\n",
       "    </tr>\n",
       "    <tr>\n",
       "      <th>19</th>\n",
       "      <td>ShortPassing</td>\n",
       "      <td>0.000160</td>\n",
       "    </tr>\n",
       "    <tr>\n",
       "      <th>48</th>\n",
       "      <td>RB</td>\n",
       "      <td>0.000159</td>\n",
       "    </tr>\n",
       "    <tr>\n",
       "      <th>47</th>\n",
       "      <td>GKKicking</td>\n",
       "      <td>0.000152</td>\n",
       "    </tr>\n",
       "    <tr>\n",
       "      <th>80</th>\n",
       "      <td>RCB</td>\n",
       "      <td>0.000151</td>\n",
       "    </tr>\n",
       "    <tr>\n",
       "      <th>7</th>\n",
       "      <td>LB</td>\n",
       "      <td>0.000150</td>\n",
       "    </tr>\n",
       "    <tr>\n",
       "      <th>14</th>\n",
       "      <td>Positioning</td>\n",
       "      <td>0.000144</td>\n",
       "    </tr>\n",
       "    <tr>\n",
       "      <th>40</th>\n",
       "      <td>Interceptions</td>\n",
       "      <td>0.000140</td>\n",
       "    </tr>\n",
       "  </tbody>\n",
       "</table>\n",
       "</div>"
      ],
      "text/plain": [
       "                           0         1\n",
       "32                     Value  0.853780\n",
       "62                       Age  0.079936\n",
       "38                 Potential  0.042483\n",
       "83                 Reactions  0.010674\n",
       "74                      Wage  0.004110\n",
       "78                 Finishing  0.000624\n",
       "54  International Reputation  0.000331\n",
       "34             GKPositioning  0.000292\n",
       "46                GKReflexes  0.000280\n",
       "55                   Special  0.000248\n",
       "0                 GKHandling  0.000240\n",
       "4                    Volleys  0.000235\n",
       "20                 Penalties  0.000219\n",
       "72                  GKDiving  0.000200\n",
       "79             SlidingTackle  0.000195\n",
       "70                        CB  0.000192\n",
       "30                       LCB  0.000185\n",
       "18            StandingTackle  0.000180\n",
       "36               BallControl  0.000174\n",
       "27                   Marking  0.000174\n",
       "29                 ShotPower  0.000165\n",
       "76                 LongShots  0.000163\n",
       "44                   Stamina  0.000163\n",
       "19              ShortPassing  0.000160\n",
       "48                        RB  0.000159\n",
       "47                 GKKicking  0.000152\n",
       "80                       RCB  0.000151\n",
       "7                         LB  0.000150\n",
       "14               Positioning  0.000144\n",
       "40             Interceptions  0.000140"
      ]
     },
     "execution_count": 14,
     "metadata": {},
     "output_type": "execute_result"
    }
   ],
   "source": [
    "# all players feature importance\n",
    "all_fi = []\n",
    "for i, col in enumerate(X_all_test.columns):\n",
    "    all_fi.append([col, all_RF_model.feature_importances_[i]])\n",
    "pd.DataFrame(all_fi).sort_values(1, ascending=False).head(30)"
   ]
  },
  {
   "cell_type": "code",
   "execution_count": 15,
   "metadata": {
    "scrolled": false
   },
   "outputs": [
    {
     "name": "stderr",
     "output_type": "stream",
     "text": [
      "G:\\Anaconda3\\lib\\site-packages\\ipykernel_launcher.py:3: SettingWithCopyWarning: \n",
      "A value is trying to be set on a copy of a slice from a DataFrame.\n",
      "Try using .loc[row_indexer,col_indexer] = value instead\n",
      "\n",
      "See the caveats in the documentation: http://pandas.pydata.org/pandas-docs/stable/indexing.html#indexing-view-versus-copy\n",
      "  This is separate from the ipykernel package so we can avoid doing imports until\n"
     ]
    },
    {
     "data": {
      "text/plain": [
       "abs_error                   1.000000\n",
       "Pos_GK                      0.151286\n",
       "GKPositioning               0.142536\n",
       "GKDiving                    0.142111\n",
       "GKReflexes                  0.141705\n",
       "GKHandling                  0.139485\n",
       "GKKicking                   0.135046\n",
       "Value                       0.080317\n",
       "Wage                        0.078438\n",
       "AWR_Medium                  0.075790\n",
       "International Reputation    0.065682\n",
       "DWR_Medium                  0.062935\n",
       "Height                      0.061609\n",
       "Weight                      0.027310\n",
       "Pos_CM                      0.019990\n",
       "Foot_Right                  0.009594\n",
       "Pos_FB                      0.007097\n",
       "Potential                   0.001916\n",
       "Pos_CB                     -0.007054\n",
       "Foot_Left                  -0.009594\n",
       "AWR_Low                    -0.018708\n",
       "Pos_DM                     -0.019619\n",
       "Pos_AM                     -0.035955\n",
       "Pos_FW                     -0.038734\n",
       "DWR_High                   -0.039847\n",
       "DWR_Low                    -0.044159\n",
       "SlidingTackle              -0.057715\n",
       "StandingTackle             -0.064749\n",
       "Marking                    -0.070098\n",
       "AWR_High                   -0.070578\n",
       "Name: abs_error, dtype: float64"
      ]
     },
     "execution_count": 15,
     "metadata": {},
     "output_type": "execute_result"
    }
   ],
   "source": [
    "# all players error analysis\n",
    "y_all_test.columns = ['True Value']\n",
    "y_all_test['Predicted Value'] = all_RF_pred\n",
    "\n",
    "df_all_error = pd.concat([X_all_test, y_all_test], axis=1)\n",
    "df_all_error['abs_error'] = abs(df_all_error['Predicted Value'] - df_all_error['True Value'])\n",
    "df_all_error.corr()['abs_error'].dropna().sort_values(ascending = False).head(30)"
   ]
  },
  {
   "cell_type": "code",
   "execution_count": 16,
   "metadata": {},
   "outputs": [
    {
     "data": {
      "text/html": [
       "<div>\n",
       "<style scoped>\n",
       "    .dataframe tbody tr th:only-of-type {\n",
       "        vertical-align: middle;\n",
       "    }\n",
       "\n",
       "    .dataframe tbody tr th {\n",
       "        vertical-align: top;\n",
       "    }\n",
       "\n",
       "    .dataframe thead th {\n",
       "        text-align: right;\n",
       "    }\n",
       "</style>\n",
       "<table border=\"1\" class=\"dataframe\">\n",
       "  <thead>\n",
       "    <tr style=\"text-align: right;\">\n",
       "      <th></th>\n",
       "      <th>0</th>\n",
       "      <th>1</th>\n",
       "    </tr>\n",
       "  </thead>\n",
       "  <tbody>\n",
       "    <tr>\n",
       "      <th>64</th>\n",
       "      <td>RS</td>\n",
       "      <td>0.362885</td>\n",
       "    </tr>\n",
       "    <tr>\n",
       "      <th>45</th>\n",
       "      <td>LS</td>\n",
       "      <td>0.312623</td>\n",
       "    </tr>\n",
       "    <tr>\n",
       "      <th>57</th>\n",
       "      <td>ST</td>\n",
       "      <td>0.282497</td>\n",
       "    </tr>\n",
       "    <tr>\n",
       "      <th>32</th>\n",
       "      <td>Value</td>\n",
       "      <td>0.018860</td>\n",
       "    </tr>\n",
       "    <tr>\n",
       "      <th>84</th>\n",
       "      <td>RF</td>\n",
       "      <td>0.004814</td>\n",
       "    </tr>\n",
       "    <tr>\n",
       "      <th>22</th>\n",
       "      <td>CF</td>\n",
       "      <td>0.004232</td>\n",
       "    </tr>\n",
       "    <tr>\n",
       "      <th>71</th>\n",
       "      <td>LF</td>\n",
       "      <td>0.003136</td>\n",
       "    </tr>\n",
       "    <tr>\n",
       "      <th>38</th>\n",
       "      <td>Potential</td>\n",
       "      <td>0.001402</td>\n",
       "    </tr>\n",
       "    <tr>\n",
       "      <th>6</th>\n",
       "      <td>LM</td>\n",
       "      <td>0.000700</td>\n",
       "    </tr>\n",
       "    <tr>\n",
       "      <th>52</th>\n",
       "      <td>RM</td>\n",
       "      <td>0.000579</td>\n",
       "    </tr>\n",
       "    <tr>\n",
       "      <th>62</th>\n",
       "      <td>Age</td>\n",
       "      <td>0.000520</td>\n",
       "    </tr>\n",
       "    <tr>\n",
       "      <th>83</th>\n",
       "      <td>Reactions</td>\n",
       "      <td>0.000473</td>\n",
       "    </tr>\n",
       "    <tr>\n",
       "      <th>42</th>\n",
       "      <td>LW</td>\n",
       "      <td>0.000418</td>\n",
       "    </tr>\n",
       "    <tr>\n",
       "      <th>59</th>\n",
       "      <td>RW</td>\n",
       "      <td>0.000344</td>\n",
       "    </tr>\n",
       "    <tr>\n",
       "      <th>49</th>\n",
       "      <td>LAM</td>\n",
       "      <td>0.000340</td>\n",
       "    </tr>\n",
       "    <tr>\n",
       "      <th>21</th>\n",
       "      <td>RAM</td>\n",
       "      <td>0.000293</td>\n",
       "    </tr>\n",
       "    <tr>\n",
       "      <th>5</th>\n",
       "      <td>CAM</td>\n",
       "      <td>0.000270</td>\n",
       "    </tr>\n",
       "    <tr>\n",
       "      <th>3</th>\n",
       "      <td>HeadingAccuracy</td>\n",
       "      <td>0.000264</td>\n",
       "    </tr>\n",
       "    <tr>\n",
       "      <th>55</th>\n",
       "      <td>Special</td>\n",
       "      <td>0.000230</td>\n",
       "    </tr>\n",
       "    <tr>\n",
       "      <th>36</th>\n",
       "      <td>BallControl</td>\n",
       "      <td>0.000217</td>\n",
       "    </tr>\n",
       "    <tr>\n",
       "      <th>66</th>\n",
       "      <td>Crossing</td>\n",
       "      <td>0.000205</td>\n",
       "    </tr>\n",
       "    <tr>\n",
       "      <th>41</th>\n",
       "      <td>Composure</td>\n",
       "      <td>0.000183</td>\n",
       "    </tr>\n",
       "    <tr>\n",
       "      <th>20</th>\n",
       "      <td>Penalties</td>\n",
       "      <td>0.000160</td>\n",
       "    </tr>\n",
       "    <tr>\n",
       "      <th>33</th>\n",
       "      <td>LongPassing</td>\n",
       "      <td>0.000160</td>\n",
       "    </tr>\n",
       "    <tr>\n",
       "      <th>12</th>\n",
       "      <td>LCM</td>\n",
       "      <td>0.000155</td>\n",
       "    </tr>\n",
       "    <tr>\n",
       "      <th>14</th>\n",
       "      <td>Positioning</td>\n",
       "      <td>0.000141</td>\n",
       "    </tr>\n",
       "    <tr>\n",
       "      <th>37</th>\n",
       "      <td>Dribbling</td>\n",
       "      <td>0.000140</td>\n",
       "    </tr>\n",
       "    <tr>\n",
       "      <th>67</th>\n",
       "      <td>Vision</td>\n",
       "      <td>0.000138</td>\n",
       "    </tr>\n",
       "    <tr>\n",
       "      <th>27</th>\n",
       "      <td>Marking</td>\n",
       "      <td>0.000135</td>\n",
       "    </tr>\n",
       "    <tr>\n",
       "      <th>26</th>\n",
       "      <td>Agility</td>\n",
       "      <td>0.000132</td>\n",
       "    </tr>\n",
       "  </tbody>\n",
       "</table>\n",
       "</div>"
      ],
      "text/plain": [
       "                  0         1\n",
       "64               RS  0.362885\n",
       "45               LS  0.312623\n",
       "57               ST  0.282497\n",
       "32            Value  0.018860\n",
       "84               RF  0.004814\n",
       "22               CF  0.004232\n",
       "71               LF  0.003136\n",
       "38        Potential  0.001402\n",
       "6                LM  0.000700\n",
       "52               RM  0.000579\n",
       "62              Age  0.000520\n",
       "83        Reactions  0.000473\n",
       "42               LW  0.000418\n",
       "59               RW  0.000344\n",
       "49              LAM  0.000340\n",
       "21              RAM  0.000293\n",
       "5               CAM  0.000270\n",
       "3   HeadingAccuracy  0.000264\n",
       "55          Special  0.000230\n",
       "36      BallControl  0.000217\n",
       "66         Crossing  0.000205\n",
       "41        Composure  0.000183\n",
       "20        Penalties  0.000160\n",
       "33      LongPassing  0.000160\n",
       "12              LCM  0.000155\n",
       "14      Positioning  0.000141\n",
       "37        Dribbling  0.000140\n",
       "67           Vision  0.000138\n",
       "27          Marking  0.000135\n",
       "26          Agility  0.000132"
      ]
     },
     "execution_count": 16,
     "metadata": {},
     "output_type": "execute_result"
    }
   ],
   "source": [
    "# FW feature importance\n",
    "fw_fi = []\n",
    "for i, col in enumerate(X_fw_test.columns):\n",
    "    fw_fi.append([col, fw_RF_model.feature_importances_[i]])\n",
    "pd.DataFrame(fw_fi).sort_values(1, ascending=False).head(30)"
   ]
  },
  {
   "cell_type": "code",
   "execution_count": 17,
   "metadata": {},
   "outputs": [
    {
     "name": "stderr",
     "output_type": "stream",
     "text": [
      "G:\\Anaconda3\\lib\\site-packages\\ipykernel_launcher.py:3: SettingWithCopyWarning: \n",
      "A value is trying to be set on a copy of a slice from a DataFrame.\n",
      "Try using .loc[row_indexer,col_indexer] = value instead\n",
      "\n",
      "See the caveats in the documentation: http://pandas.pydata.org/pandas-docs/stable/indexing.html#indexing-view-versus-copy\n",
      "  This is separate from the ipykernel package so we can avoid doing imports until\n"
     ]
    },
    {
     "data": {
      "text/plain": [
       "abs_error                   1.000000\n",
       "Value                       0.514954\n",
       "Wage                        0.509084\n",
       "International Reputation    0.325459\n",
       "Potential                   0.193476\n",
       "Skill Moves                 0.160431\n",
       "Vision                      0.158329\n",
       "Dribbling                   0.130432\n",
       "RAM                         0.128215\n",
       "LAM                         0.128215\n",
       "CAM                         0.128215\n",
       "LW                          0.126240\n",
       "RW                          0.126240\n",
       "Balance                     0.123963\n",
       "RM                          0.122968\n",
       "LM                          0.122968\n",
       "BallControl                 0.118928\n",
       "Acceleration                0.114732\n",
       "LongPassing                 0.108824\n",
       "Crossing                    0.106814\n",
       "LCM                         0.106640\n",
       "CM                          0.106640\n",
       "RCM                         0.106640\n",
       "Agility                     0.104921\n",
       "CF                          0.101736\n",
       "RF                          0.101736\n",
       "LF                          0.101736\n",
       "SprintSpeed                 0.097764\n",
       "Composure                   0.096268\n",
       "FKAccuracy                  0.095497\n",
       "Name: abs_error, dtype: float64"
      ]
     },
     "execution_count": 17,
     "metadata": {},
     "output_type": "execute_result"
    }
   ],
   "source": [
    "# FW error analysis\n",
    "y_fw_test.columns = ['True Value']\n",
    "y_fw_test['Predicted Value'] = fw_RF_pred\n",
    "\n",
    "df_fw_error = pd.concat([X_fw_test, y_fw_test], axis=1)\n",
    "df_fw_error['abs_error'] = abs(df_fw_error['Predicted Value'] - df_fw_error['True Value'])\n",
    "df_fw_error.corr()['abs_error'].dropna().sort_values(ascending = False).head(30)"
   ]
  },
  {
   "cell_type": "code",
   "execution_count": 18,
   "metadata": {},
   "outputs": [
    {
     "data": {
      "text/html": [
       "<div>\n",
       "<style scoped>\n",
       "    .dataframe tbody tr th:only-of-type {\n",
       "        vertical-align: middle;\n",
       "    }\n",
       "\n",
       "    .dataframe tbody tr th {\n",
       "        vertical-align: top;\n",
       "    }\n",
       "\n",
       "    .dataframe thead th {\n",
       "        text-align: right;\n",
       "    }\n",
       "</style>\n",
       "<table border=\"1\" class=\"dataframe\">\n",
       "  <thead>\n",
       "    <tr style=\"text-align: right;\">\n",
       "      <th></th>\n",
       "      <th>0</th>\n",
       "      <th>1</th>\n",
       "    </tr>\n",
       "  </thead>\n",
       "  <tbody>\n",
       "    <tr>\n",
       "      <th>5</th>\n",
       "      <td>CAM</td>\n",
       "      <td>0.320329</td>\n",
       "    </tr>\n",
       "    <tr>\n",
       "      <th>49</th>\n",
       "      <td>LAM</td>\n",
       "      <td>0.318625</td>\n",
       "    </tr>\n",
       "    <tr>\n",
       "      <th>21</th>\n",
       "      <td>RAM</td>\n",
       "      <td>0.289677</td>\n",
       "    </tr>\n",
       "    <tr>\n",
       "      <th>32</th>\n",
       "      <td>Value</td>\n",
       "      <td>0.021837</td>\n",
       "    </tr>\n",
       "    <tr>\n",
       "      <th>6</th>\n",
       "      <td>LM</td>\n",
       "      <td>0.007920</td>\n",
       "    </tr>\n",
       "    <tr>\n",
       "      <th>71</th>\n",
       "      <td>LF</td>\n",
       "      <td>0.006914</td>\n",
       "    </tr>\n",
       "    <tr>\n",
       "      <th>22</th>\n",
       "      <td>CF</td>\n",
       "      <td>0.005354</td>\n",
       "    </tr>\n",
       "    <tr>\n",
       "      <th>59</th>\n",
       "      <td>RW</td>\n",
       "      <td>0.004533</td>\n",
       "    </tr>\n",
       "    <tr>\n",
       "      <th>84</th>\n",
       "      <td>RF</td>\n",
       "      <td>0.004528</td>\n",
       "    </tr>\n",
       "    <tr>\n",
       "      <th>52</th>\n",
       "      <td>RM</td>\n",
       "      <td>0.003692</td>\n",
       "    </tr>\n",
       "    <tr>\n",
       "      <th>42</th>\n",
       "      <td>LW</td>\n",
       "      <td>0.003247</td>\n",
       "    </tr>\n",
       "    <tr>\n",
       "      <th>38</th>\n",
       "      <td>Potential</td>\n",
       "      <td>0.001375</td>\n",
       "    </tr>\n",
       "    <tr>\n",
       "      <th>83</th>\n",
       "      <td>Reactions</td>\n",
       "      <td>0.001151</td>\n",
       "    </tr>\n",
       "    <tr>\n",
       "      <th>74</th>\n",
       "      <td>Wage</td>\n",
       "      <td>0.000697</td>\n",
       "    </tr>\n",
       "    <tr>\n",
       "      <th>3</th>\n",
       "      <td>HeadingAccuracy</td>\n",
       "      <td>0.000550</td>\n",
       "    </tr>\n",
       "    <tr>\n",
       "      <th>29</th>\n",
       "      <td>ShotPower</td>\n",
       "      <td>0.000407</td>\n",
       "    </tr>\n",
       "    <tr>\n",
       "      <th>58</th>\n",
       "      <td>SprintSpeed</td>\n",
       "      <td>0.000365</td>\n",
       "    </tr>\n",
       "    <tr>\n",
       "      <th>4</th>\n",
       "      <td>Volleys</td>\n",
       "      <td>0.000331</td>\n",
       "    </tr>\n",
       "    <tr>\n",
       "      <th>27</th>\n",
       "      <td>Marking</td>\n",
       "      <td>0.000329</td>\n",
       "    </tr>\n",
       "    <tr>\n",
       "      <th>55</th>\n",
       "      <td>Special</td>\n",
       "      <td>0.000315</td>\n",
       "    </tr>\n",
       "    <tr>\n",
       "      <th>78</th>\n",
       "      <td>Finishing</td>\n",
       "      <td>0.000310</td>\n",
       "    </tr>\n",
       "    <tr>\n",
       "      <th>20</th>\n",
       "      <td>Penalties</td>\n",
       "      <td>0.000288</td>\n",
       "    </tr>\n",
       "    <tr>\n",
       "      <th>35</th>\n",
       "      <td>Aggression</td>\n",
       "      <td>0.000275</td>\n",
       "    </tr>\n",
       "    <tr>\n",
       "      <th>15</th>\n",
       "      <td>FKAccuracy</td>\n",
       "      <td>0.000236</td>\n",
       "    </tr>\n",
       "    <tr>\n",
       "      <th>66</th>\n",
       "      <td>Crossing</td>\n",
       "      <td>0.000228</td>\n",
       "    </tr>\n",
       "    <tr>\n",
       "      <th>79</th>\n",
       "      <td>SlidingTackle</td>\n",
       "      <td>0.000216</td>\n",
       "    </tr>\n",
       "    <tr>\n",
       "      <th>40</th>\n",
       "      <td>Interceptions</td>\n",
       "      <td>0.000211</td>\n",
       "    </tr>\n",
       "    <tr>\n",
       "      <th>12</th>\n",
       "      <td>LCM</td>\n",
       "      <td>0.000209</td>\n",
       "    </tr>\n",
       "    <tr>\n",
       "      <th>14</th>\n",
       "      <td>Positioning</td>\n",
       "      <td>0.000208</td>\n",
       "    </tr>\n",
       "    <tr>\n",
       "      <th>30</th>\n",
       "      <td>LCB</td>\n",
       "      <td>0.000207</td>\n",
       "    </tr>\n",
       "  </tbody>\n",
       "</table>\n",
       "</div>"
      ],
      "text/plain": [
       "                  0         1\n",
       "5               CAM  0.320329\n",
       "49              LAM  0.318625\n",
       "21              RAM  0.289677\n",
       "32            Value  0.021837\n",
       "6                LM  0.007920\n",
       "71               LF  0.006914\n",
       "22               CF  0.005354\n",
       "59               RW  0.004533\n",
       "84               RF  0.004528\n",
       "52               RM  0.003692\n",
       "42               LW  0.003247\n",
       "38        Potential  0.001375\n",
       "83        Reactions  0.001151\n",
       "74             Wage  0.000697\n",
       "3   HeadingAccuracy  0.000550\n",
       "29        ShotPower  0.000407\n",
       "58      SprintSpeed  0.000365\n",
       "4           Volleys  0.000331\n",
       "27          Marking  0.000329\n",
       "55          Special  0.000315\n",
       "78        Finishing  0.000310\n",
       "20        Penalties  0.000288\n",
       "35       Aggression  0.000275\n",
       "15       FKAccuracy  0.000236\n",
       "66         Crossing  0.000228\n",
       "79    SlidingTackle  0.000216\n",
       "40    Interceptions  0.000211\n",
       "12              LCM  0.000209\n",
       "14      Positioning  0.000208\n",
       "30              LCB  0.000207"
      ]
     },
     "execution_count": 18,
     "metadata": {},
     "output_type": "execute_result"
    }
   ],
   "source": [
    "# AM feature importance\n",
    "am_fi = []\n",
    "for i, col in enumerate(X_am_test.columns):\n",
    "    am_fi.append([col, am_RF_model.feature_importances_[i]])\n",
    "pd.DataFrame(am_fi).sort_values(1, ascending=False).head(30)"
   ]
  },
  {
   "cell_type": "code",
   "execution_count": 19,
   "metadata": {},
   "outputs": [
    {
     "name": "stderr",
     "output_type": "stream",
     "text": [
      "G:\\Anaconda3\\lib\\site-packages\\ipykernel_launcher.py:3: SettingWithCopyWarning: \n",
      "A value is trying to be set on a copy of a slice from a DataFrame.\n",
      "Try using .loc[row_indexer,col_indexer] = value instead\n",
      "\n",
      "See the caveats in the documentation: http://pandas.pydata.org/pandas-docs/stable/indexing.html#indexing-view-versus-copy\n",
      "  This is separate from the ipykernel package so we can avoid doing imports until\n"
     ]
    },
    {
     "data": {
      "text/plain": [
       "abs_error                   1.000000\n",
       "Strength                    0.118639\n",
       "Height                      0.115346\n",
       "HeadingAccuracy             0.112341\n",
       "Weight                      0.096449\n",
       "GKPositioning               0.090853\n",
       "Aggression                  0.087800\n",
       "DWR_Medium                  0.046998\n",
       "Age                         0.045995\n",
       "Foot_Right                  0.041303\n",
       "AWR_High                    0.038622\n",
       "RCB                         0.033719\n",
       "LCB                         0.033719\n",
       "CB                          0.033719\n",
       "SlidingTackle               0.033460\n",
       "GKKicking                   0.032544\n",
       "Skill Moves                 0.015258\n",
       "GKHandling                  0.011334\n",
       "Marking                     0.010993\n",
       "StandingTackle              0.007666\n",
       "Volleys                    -0.001379\n",
       "ShotPower                  -0.004411\n",
       "Penalties                  -0.005900\n",
       "Jumping                    -0.008836\n",
       "International Reputation   -0.012654\n",
       "Weak Foot                  -0.024460\n",
       "Positioning                -0.028841\n",
       "DWR_Low                    -0.030196\n",
       "Acceleration               -0.031136\n",
       "Interceptions              -0.031958\n",
       "Name: abs_error, dtype: float64"
      ]
     },
     "execution_count": 19,
     "metadata": {},
     "output_type": "execute_result"
    }
   ],
   "source": [
    "# AM error analysis\n",
    "y_am_test.columns = ['True Value']\n",
    "y_am_test['Predicted Value'] = am_RF_pred\n",
    "\n",
    "df_am_error = pd.concat([X_am_test, y_am_test], axis=1)\n",
    "df_am_error['abs_error'] = abs(df_am_error['Predicted Value'] - df_am_error['True Value'])\n",
    "df_am_error.corr()['abs_error'].dropna().sort_values(ascending = False).head(30)"
   ]
  },
  {
   "cell_type": "code",
   "execution_count": 20,
   "metadata": {},
   "outputs": [
    {
     "data": {
      "text/html": [
       "<div>\n",
       "<style scoped>\n",
       "    .dataframe tbody tr th:only-of-type {\n",
       "        vertical-align: middle;\n",
       "    }\n",
       "\n",
       "    .dataframe tbody tr th {\n",
       "        vertical-align: top;\n",
       "    }\n",
       "\n",
       "    .dataframe thead th {\n",
       "        text-align: right;\n",
       "    }\n",
       "</style>\n",
       "<table border=\"1\" class=\"dataframe\">\n",
       "  <thead>\n",
       "    <tr style=\"text-align: right;\">\n",
       "      <th></th>\n",
       "      <th>0</th>\n",
       "      <th>1</th>\n",
       "    </tr>\n",
       "  </thead>\n",
       "  <tbody>\n",
       "    <tr>\n",
       "      <th>6</th>\n",
       "      <td>LM</td>\n",
       "      <td>0.526181</td>\n",
       "    </tr>\n",
       "    <tr>\n",
       "      <th>52</th>\n",
       "      <td>RM</td>\n",
       "      <td>0.418169</td>\n",
       "    </tr>\n",
       "    <tr>\n",
       "      <th>32</th>\n",
       "      <td>Value</td>\n",
       "      <td>0.022219</td>\n",
       "    </tr>\n",
       "    <tr>\n",
       "      <th>49</th>\n",
       "      <td>LAM</td>\n",
       "      <td>0.006055</td>\n",
       "    </tr>\n",
       "    <tr>\n",
       "      <th>21</th>\n",
       "      <td>RAM</td>\n",
       "      <td>0.005187</td>\n",
       "    </tr>\n",
       "    <tr>\n",
       "      <th>5</th>\n",
       "      <td>CAM</td>\n",
       "      <td>0.004883</td>\n",
       "    </tr>\n",
       "    <tr>\n",
       "      <th>38</th>\n",
       "      <td>Potential</td>\n",
       "      <td>0.001589</td>\n",
       "    </tr>\n",
       "    <tr>\n",
       "      <th>59</th>\n",
       "      <td>RW</td>\n",
       "      <td>0.001378</td>\n",
       "    </tr>\n",
       "    <tr>\n",
       "      <th>42</th>\n",
       "      <td>LW</td>\n",
       "      <td>0.001295</td>\n",
       "    </tr>\n",
       "    <tr>\n",
       "      <th>62</th>\n",
       "      <td>Age</td>\n",
       "      <td>0.001071</td>\n",
       "    </tr>\n",
       "    <tr>\n",
       "      <th>55</th>\n",
       "      <td>Special</td>\n",
       "      <td>0.000472</td>\n",
       "    </tr>\n",
       "    <tr>\n",
       "      <th>74</th>\n",
       "      <td>Wage</td>\n",
       "      <td>0.000452</td>\n",
       "    </tr>\n",
       "    <tr>\n",
       "      <th>18</th>\n",
       "      <td>StandingTackle</td>\n",
       "      <td>0.000447</td>\n",
       "    </tr>\n",
       "    <tr>\n",
       "      <th>22</th>\n",
       "      <td>CF</td>\n",
       "      <td>0.000345</td>\n",
       "    </tr>\n",
       "    <tr>\n",
       "      <th>20</th>\n",
       "      <td>Penalties</td>\n",
       "      <td>0.000326</td>\n",
       "    </tr>\n",
       "    <tr>\n",
       "      <th>70</th>\n",
       "      <td>CB</td>\n",
       "      <td>0.000321</td>\n",
       "    </tr>\n",
       "    <tr>\n",
       "      <th>27</th>\n",
       "      <td>Marking</td>\n",
       "      <td>0.000317</td>\n",
       "    </tr>\n",
       "    <tr>\n",
       "      <th>45</th>\n",
       "      <td>LS</td>\n",
       "      <td>0.000317</td>\n",
       "    </tr>\n",
       "    <tr>\n",
       "      <th>79</th>\n",
       "      <td>SlidingTackle</td>\n",
       "      <td>0.000299</td>\n",
       "    </tr>\n",
       "    <tr>\n",
       "      <th>3</th>\n",
       "      <td>HeadingAccuracy</td>\n",
       "      <td>0.000298</td>\n",
       "    </tr>\n",
       "    <tr>\n",
       "      <th>83</th>\n",
       "      <td>Reactions</td>\n",
       "      <td>0.000291</td>\n",
       "    </tr>\n",
       "    <tr>\n",
       "      <th>71</th>\n",
       "      <td>LF</td>\n",
       "      <td>0.000291</td>\n",
       "    </tr>\n",
       "    <tr>\n",
       "      <th>11</th>\n",
       "      <td>Strength</td>\n",
       "      <td>0.000289</td>\n",
       "    </tr>\n",
       "    <tr>\n",
       "      <th>40</th>\n",
       "      <td>Interceptions</td>\n",
       "      <td>0.000279</td>\n",
       "    </tr>\n",
       "    <tr>\n",
       "      <th>69</th>\n",
       "      <td>RWB</td>\n",
       "      <td>0.000278</td>\n",
       "    </tr>\n",
       "    <tr>\n",
       "      <th>41</th>\n",
       "      <td>Composure</td>\n",
       "      <td>0.000266</td>\n",
       "    </tr>\n",
       "    <tr>\n",
       "      <th>64</th>\n",
       "      <td>RS</td>\n",
       "      <td>0.000261</td>\n",
       "    </tr>\n",
       "    <tr>\n",
       "      <th>57</th>\n",
       "      <td>ST</td>\n",
       "      <td>0.000249</td>\n",
       "    </tr>\n",
       "    <tr>\n",
       "      <th>84</th>\n",
       "      <td>RF</td>\n",
       "      <td>0.000242</td>\n",
       "    </tr>\n",
       "    <tr>\n",
       "      <th>48</th>\n",
       "      <td>RB</td>\n",
       "      <td>0.000230</td>\n",
       "    </tr>\n",
       "  </tbody>\n",
       "</table>\n",
       "</div>"
      ],
      "text/plain": [
       "                  0         1\n",
       "6                LM  0.526181\n",
       "52               RM  0.418169\n",
       "32            Value  0.022219\n",
       "49              LAM  0.006055\n",
       "21              RAM  0.005187\n",
       "5               CAM  0.004883\n",
       "38        Potential  0.001589\n",
       "59               RW  0.001378\n",
       "42               LW  0.001295\n",
       "62              Age  0.001071\n",
       "55          Special  0.000472\n",
       "74             Wage  0.000452\n",
       "18   StandingTackle  0.000447\n",
       "22               CF  0.000345\n",
       "20        Penalties  0.000326\n",
       "70               CB  0.000321\n",
       "27          Marking  0.000317\n",
       "45               LS  0.000317\n",
       "79    SlidingTackle  0.000299\n",
       "3   HeadingAccuracy  0.000298\n",
       "83        Reactions  0.000291\n",
       "71               LF  0.000291\n",
       "11         Strength  0.000289\n",
       "40    Interceptions  0.000279\n",
       "69              RWB  0.000278\n",
       "41        Composure  0.000266\n",
       "64               RS  0.000261\n",
       "57               ST  0.000249\n",
       "84               RF  0.000242\n",
       "48               RB  0.000230"
      ]
     },
     "execution_count": 20,
     "metadata": {},
     "output_type": "execute_result"
    }
   ],
   "source": [
    "# Wings feature importance\n",
    "wings_fi = []\n",
    "for i, col in enumerate(X_wings_test.columns):\n",
    "    wings_fi.append([col, wings_RF_model.feature_importances_[i]])\n",
    "pd.DataFrame(wings_fi).sort_values(1, ascending=False).head(30)"
   ]
  },
  {
   "cell_type": "code",
   "execution_count": 21,
   "metadata": {},
   "outputs": [
    {
     "name": "stderr",
     "output_type": "stream",
     "text": [
      "G:\\Anaconda3\\lib\\site-packages\\ipykernel_launcher.py:3: SettingWithCopyWarning: \n",
      "A value is trying to be set on a copy of a slice from a DataFrame.\n",
      "Try using .loc[row_indexer,col_indexer] = value instead\n",
      "\n",
      "See the caveats in the documentation: http://pandas.pydata.org/pandas-docs/stable/indexing.html#indexing-view-versus-copy\n",
      "  This is separate from the ipykernel package so we can avoid doing imports until\n"
     ]
    },
    {
     "data": {
      "text/plain": [
       "abs_error                   1.000000\n",
       "Value                       0.205628\n",
       "Wage                        0.170097\n",
       "International Reputation    0.151529\n",
       "SlidingTackle               0.129157\n",
       "LCB                         0.118122\n",
       "RCB                         0.118122\n",
       "CB                          0.118122\n",
       "Interceptions               0.112635\n",
       "StandingTackle              0.111009\n",
       "HeadingAccuracy             0.105757\n",
       "Foot_Right                  0.098307\n",
       "Marking                     0.092938\n",
       "AWR_Medium                  0.092540\n",
       "CDM                         0.082923\n",
       "RDM                         0.082923\n",
       "LDM                         0.082923\n",
       "RB                          0.078782\n",
       "LB                          0.078782\n",
       "Height                      0.074072\n",
       "AWR_Low                     0.059782\n",
       "Potential                   0.056999\n",
       "RWB                         0.054297\n",
       "LWB                         0.054297\n",
       "Aggression                  0.053550\n",
       "Weight                      0.040019\n",
       "DWR_Medium                  0.028863\n",
       "Strength                    0.027556\n",
       "GKPositioning               0.017151\n",
       "DWR_High                    0.014351\n",
       "Name: abs_error, dtype: float64"
      ]
     },
     "execution_count": 21,
     "metadata": {},
     "output_type": "execute_result"
    }
   ],
   "source": [
    "# Wings error analysis\n",
    "y_wings_test.columns = ['True Value']\n",
    "y_wings_test['Predicted Value'] = wings_RF_pred\n",
    "\n",
    "df_wings_error = pd.concat([X_wings_test, y_wings_test], axis=1)\n",
    "df_wings_error['abs_error'] = abs(df_wings_error['Predicted Value'] - df_wings_error['True Value'])\n",
    "df_wings_error.corr()['abs_error'].dropna().sort_values(ascending = False).head(30)"
   ]
  },
  {
   "cell_type": "code",
   "execution_count": 22,
   "metadata": {},
   "outputs": [
    {
     "data": {
      "text/html": [
       "<div>\n",
       "<style scoped>\n",
       "    .dataframe tbody tr th:only-of-type {\n",
       "        vertical-align: middle;\n",
       "    }\n",
       "\n",
       "    .dataframe tbody tr th {\n",
       "        vertical-align: top;\n",
       "    }\n",
       "\n",
       "    .dataframe thead th {\n",
       "        text-align: right;\n",
       "    }\n",
       "</style>\n",
       "<table border=\"1\" class=\"dataframe\">\n",
       "  <thead>\n",
       "    <tr style=\"text-align: right;\">\n",
       "      <th></th>\n",
       "      <th>0</th>\n",
       "      <th>1</th>\n",
       "    </tr>\n",
       "  </thead>\n",
       "  <tbody>\n",
       "    <tr>\n",
       "      <th>31</th>\n",
       "      <td>RCM</td>\n",
       "      <td>0.365177</td>\n",
       "    </tr>\n",
       "    <tr>\n",
       "      <th>51</th>\n",
       "      <td>CM</td>\n",
       "      <td>0.287476</td>\n",
       "    </tr>\n",
       "    <tr>\n",
       "      <th>12</th>\n",
       "      <td>LCM</td>\n",
       "      <td>0.196125</td>\n",
       "    </tr>\n",
       "    <tr>\n",
       "      <th>32</th>\n",
       "      <td>Value</td>\n",
       "      <td>0.130503</td>\n",
       "    </tr>\n",
       "    <tr>\n",
       "      <th>62</th>\n",
       "      <td>Age</td>\n",
       "      <td>0.001843</td>\n",
       "    </tr>\n",
       "    <tr>\n",
       "      <th>70</th>\n",
       "      <td>CB</td>\n",
       "      <td>0.001578</td>\n",
       "    </tr>\n",
       "    <tr>\n",
       "      <th>80</th>\n",
       "      <td>RCB</td>\n",
       "      <td>0.001515</td>\n",
       "    </tr>\n",
       "    <tr>\n",
       "      <th>30</th>\n",
       "      <td>LCB</td>\n",
       "      <td>0.001471</td>\n",
       "    </tr>\n",
       "    <tr>\n",
       "      <th>38</th>\n",
       "      <td>Potential</td>\n",
       "      <td>0.001347</td>\n",
       "    </tr>\n",
       "    <tr>\n",
       "      <th>73</th>\n",
       "      <td>LDM</td>\n",
       "      <td>0.000675</td>\n",
       "    </tr>\n",
       "    <tr>\n",
       "      <th>60</th>\n",
       "      <td>RDM</td>\n",
       "      <td>0.000664</td>\n",
       "    </tr>\n",
       "    <tr>\n",
       "      <th>65</th>\n",
       "      <td>CDM</td>\n",
       "      <td>0.000638</td>\n",
       "    </tr>\n",
       "    <tr>\n",
       "      <th>55</th>\n",
       "      <td>Special</td>\n",
       "      <td>0.000609</td>\n",
       "    </tr>\n",
       "    <tr>\n",
       "      <th>40</th>\n",
       "      <td>Interceptions</td>\n",
       "      <td>0.000479</td>\n",
       "    </tr>\n",
       "    <tr>\n",
       "      <th>18</th>\n",
       "      <td>StandingTackle</td>\n",
       "      <td>0.000414</td>\n",
       "    </tr>\n",
       "    <tr>\n",
       "      <th>27</th>\n",
       "      <td>Marking</td>\n",
       "      <td>0.000412</td>\n",
       "    </tr>\n",
       "    <tr>\n",
       "      <th>7</th>\n",
       "      <td>LB</td>\n",
       "      <td>0.000394</td>\n",
       "    </tr>\n",
       "    <tr>\n",
       "      <th>44</th>\n",
       "      <td>Stamina</td>\n",
       "      <td>0.000342</td>\n",
       "    </tr>\n",
       "    <tr>\n",
       "      <th>48</th>\n",
       "      <td>RB</td>\n",
       "      <td>0.000321</td>\n",
       "    </tr>\n",
       "    <tr>\n",
       "      <th>83</th>\n",
       "      <td>Reactions</td>\n",
       "      <td>0.000317</td>\n",
       "    </tr>\n",
       "    <tr>\n",
       "      <th>42</th>\n",
       "      <td>LW</td>\n",
       "      <td>0.000296</td>\n",
       "    </tr>\n",
       "    <tr>\n",
       "      <th>5</th>\n",
       "      <td>CAM</td>\n",
       "      <td>0.000263</td>\n",
       "    </tr>\n",
       "    <tr>\n",
       "      <th>59</th>\n",
       "      <td>RW</td>\n",
       "      <td>0.000255</td>\n",
       "    </tr>\n",
       "    <tr>\n",
       "      <th>14</th>\n",
       "      <td>Positioning</td>\n",
       "      <td>0.000253</td>\n",
       "    </tr>\n",
       "    <tr>\n",
       "      <th>74</th>\n",
       "      <td>Wage</td>\n",
       "      <td>0.000229</td>\n",
       "    </tr>\n",
       "    <tr>\n",
       "      <th>37</th>\n",
       "      <td>Dribbling</td>\n",
       "      <td>0.000211</td>\n",
       "    </tr>\n",
       "    <tr>\n",
       "      <th>49</th>\n",
       "      <td>LAM</td>\n",
       "      <td>0.000207</td>\n",
       "    </tr>\n",
       "    <tr>\n",
       "      <th>41</th>\n",
       "      <td>Composure</td>\n",
       "      <td>0.000207</td>\n",
       "    </tr>\n",
       "    <tr>\n",
       "      <th>36</th>\n",
       "      <td>BallControl</td>\n",
       "      <td>0.000205</td>\n",
       "    </tr>\n",
       "    <tr>\n",
       "      <th>76</th>\n",
       "      <td>LongShots</td>\n",
       "      <td>0.000204</td>\n",
       "    </tr>\n",
       "  </tbody>\n",
       "</table>\n",
       "</div>"
      ],
      "text/plain": [
       "                 0         1\n",
       "31             RCM  0.365177\n",
       "51              CM  0.287476\n",
       "12             LCM  0.196125\n",
       "32           Value  0.130503\n",
       "62             Age  0.001843\n",
       "70              CB  0.001578\n",
       "80             RCB  0.001515\n",
       "30             LCB  0.001471\n",
       "38       Potential  0.001347\n",
       "73             LDM  0.000675\n",
       "60             RDM  0.000664\n",
       "65             CDM  0.000638\n",
       "55         Special  0.000609\n",
       "40   Interceptions  0.000479\n",
       "18  StandingTackle  0.000414\n",
       "27         Marking  0.000412\n",
       "7               LB  0.000394\n",
       "44         Stamina  0.000342\n",
       "48              RB  0.000321\n",
       "83       Reactions  0.000317\n",
       "42              LW  0.000296\n",
       "5              CAM  0.000263\n",
       "59              RW  0.000255\n",
       "14     Positioning  0.000253\n",
       "74            Wage  0.000229\n",
       "37       Dribbling  0.000211\n",
       "49             LAM  0.000207\n",
       "41       Composure  0.000207\n",
       "36     BallControl  0.000205\n",
       "76       LongShots  0.000204"
      ]
     },
     "execution_count": 22,
     "metadata": {},
     "output_type": "execute_result"
    }
   ],
   "source": [
    "# CM feature importance\n",
    "cm_fi = []\n",
    "for i, col in enumerate(X_cm_test.columns):\n",
    "    cm_fi.append([col, cm_RF_model.feature_importances_[i]])\n",
    "pd.DataFrame(cm_fi).sort_values(1, ascending=False).head(30)"
   ]
  },
  {
   "cell_type": "code",
   "execution_count": 23,
   "metadata": {},
   "outputs": [
    {
     "name": "stderr",
     "output_type": "stream",
     "text": [
      "G:\\Anaconda3\\lib\\site-packages\\ipykernel_launcher.py:3: SettingWithCopyWarning: \n",
      "A value is trying to be set on a copy of a slice from a DataFrame.\n",
      "Try using .loc[row_indexer,col_indexer] = value instead\n",
      "\n",
      "See the caveats in the documentation: http://pandas.pydata.org/pandas-docs/stable/indexing.html#indexing-view-versus-copy\n",
      "  This is separate from the ipykernel package so we can avoid doing imports until\n"
     ]
    },
    {
     "data": {
      "text/plain": [
       "abs_error                   1.000000\n",
       "Stamina                     0.162943\n",
       "Age                         0.131968\n",
       "Wage                        0.116690\n",
       "GKDiving                    0.102180\n",
       "Aggression                  0.100545\n",
       "Acceleration                0.097597\n",
       "SprintSpeed                 0.097161\n",
       "Marking                     0.094724\n",
       "GKReflexes                  0.086647\n",
       "DWR_High                    0.086408\n",
       "Strength                    0.083391\n",
       "Value                       0.080642\n",
       "Jumping                     0.078349\n",
       "RCB                         0.062557\n",
       "LCB                         0.062557\n",
       "CB                          0.062557\n",
       "Foot_Right                  0.058962\n",
       "RB                          0.052459\n",
       "LB                          0.052459\n",
       "RWB                         0.049177\n",
       "LWB                         0.049177\n",
       "HeadingAccuracy             0.047530\n",
       "International Reputation    0.044641\n",
       "Weight                      0.043822\n",
       "Height                      0.040012\n",
       "StandingTackle              0.038572\n",
       "CDM                         0.032876\n",
       "RDM                         0.032876\n",
       "LDM                         0.032876\n",
       "Name: abs_error, dtype: float64"
      ]
     },
     "execution_count": 23,
     "metadata": {},
     "output_type": "execute_result"
    }
   ],
   "source": [
    "# CM error analysis\n",
    "y_cm_test.columns = ['True Value']\n",
    "y_cm_test['Predicted Value'] = cm_RF_pred\n",
    "\n",
    "df_cm_error = pd.concat([X_cm_test, y_cm_test], axis=1)\n",
    "df_cm_error['abs_error'] = abs(df_cm_error['Predicted Value'] - df_cm_error['True Value'])\n",
    "df_cm_error.corr()['abs_error'].dropna().sort_values(ascending = False).head(30)"
   ]
  },
  {
   "cell_type": "code",
   "execution_count": 24,
   "metadata": {},
   "outputs": [
    {
     "data": {
      "text/html": [
       "<div>\n",
       "<style scoped>\n",
       "    .dataframe tbody tr th:only-of-type {\n",
       "        vertical-align: middle;\n",
       "    }\n",
       "\n",
       "    .dataframe tbody tr th {\n",
       "        vertical-align: top;\n",
       "    }\n",
       "\n",
       "    .dataframe thead th {\n",
       "        text-align: right;\n",
       "    }\n",
       "</style>\n",
       "<table border=\"1\" class=\"dataframe\">\n",
       "  <thead>\n",
       "    <tr style=\"text-align: right;\">\n",
       "      <th></th>\n",
       "      <th>0</th>\n",
       "      <th>1</th>\n",
       "    </tr>\n",
       "  </thead>\n",
       "  <tbody>\n",
       "    <tr>\n",
       "      <th>73</th>\n",
       "      <td>LDM</td>\n",
       "      <td>0.312203</td>\n",
       "    </tr>\n",
       "    <tr>\n",
       "      <th>65</th>\n",
       "      <td>CDM</td>\n",
       "      <td>0.301418</td>\n",
       "    </tr>\n",
       "    <tr>\n",
       "      <th>60</th>\n",
       "      <td>RDM</td>\n",
       "      <td>0.250126</td>\n",
       "    </tr>\n",
       "    <tr>\n",
       "      <th>32</th>\n",
       "      <td>Value</td>\n",
       "      <td>0.063306</td>\n",
       "    </tr>\n",
       "    <tr>\n",
       "      <th>55</th>\n",
       "      <td>Special</td>\n",
       "      <td>0.009791</td>\n",
       "    </tr>\n",
       "    <tr>\n",
       "      <th>31</th>\n",
       "      <td>RCM</td>\n",
       "      <td>0.009610</td>\n",
       "    </tr>\n",
       "    <tr>\n",
       "      <th>12</th>\n",
       "      <td>LCM</td>\n",
       "      <td>0.009395</td>\n",
       "    </tr>\n",
       "    <tr>\n",
       "      <th>51</th>\n",
       "      <td>CM</td>\n",
       "      <td>0.008936</td>\n",
       "    </tr>\n",
       "    <tr>\n",
       "      <th>38</th>\n",
       "      <td>Potential</td>\n",
       "      <td>0.002642</td>\n",
       "    </tr>\n",
       "    <tr>\n",
       "      <th>6</th>\n",
       "      <td>LM</td>\n",
       "      <td>0.002006</td>\n",
       "    </tr>\n",
       "    <tr>\n",
       "      <th>69</th>\n",
       "      <td>RWB</td>\n",
       "      <td>0.002004</td>\n",
       "    </tr>\n",
       "    <tr>\n",
       "      <th>21</th>\n",
       "      <td>RAM</td>\n",
       "      <td>0.001763</td>\n",
       "    </tr>\n",
       "    <tr>\n",
       "      <th>49</th>\n",
       "      <td>LAM</td>\n",
       "      <td>0.001705</td>\n",
       "    </tr>\n",
       "    <tr>\n",
       "      <th>52</th>\n",
       "      <td>RM</td>\n",
       "      <td>0.001687</td>\n",
       "    </tr>\n",
       "    <tr>\n",
       "      <th>5</th>\n",
       "      <td>CAM</td>\n",
       "      <td>0.001660</td>\n",
       "    </tr>\n",
       "    <tr>\n",
       "      <th>71</th>\n",
       "      <td>LF</td>\n",
       "      <td>0.001319</td>\n",
       "    </tr>\n",
       "    <tr>\n",
       "      <th>36</th>\n",
       "      <td>BallControl</td>\n",
       "      <td>0.001164</td>\n",
       "    </tr>\n",
       "    <tr>\n",
       "      <th>59</th>\n",
       "      <td>RW</td>\n",
       "      <td>0.001153</td>\n",
       "    </tr>\n",
       "    <tr>\n",
       "      <th>42</th>\n",
       "      <td>LW</td>\n",
       "      <td>0.001115</td>\n",
       "    </tr>\n",
       "    <tr>\n",
       "      <th>62</th>\n",
       "      <td>Age</td>\n",
       "      <td>0.001078</td>\n",
       "    </tr>\n",
       "    <tr>\n",
       "      <th>74</th>\n",
       "      <td>Wage</td>\n",
       "      <td>0.000903</td>\n",
       "    </tr>\n",
       "    <tr>\n",
       "      <th>57</th>\n",
       "      <td>ST</td>\n",
       "      <td>0.000888</td>\n",
       "    </tr>\n",
       "    <tr>\n",
       "      <th>67</th>\n",
       "      <td>Vision</td>\n",
       "      <td>0.000804</td>\n",
       "    </tr>\n",
       "    <tr>\n",
       "      <th>22</th>\n",
       "      <td>CF</td>\n",
       "      <td>0.000768</td>\n",
       "    </tr>\n",
       "    <tr>\n",
       "      <th>37</th>\n",
       "      <td>Dribbling</td>\n",
       "      <td>0.000725</td>\n",
       "    </tr>\n",
       "    <tr>\n",
       "      <th>18</th>\n",
       "      <td>StandingTackle</td>\n",
       "      <td>0.000595</td>\n",
       "    </tr>\n",
       "    <tr>\n",
       "      <th>84</th>\n",
       "      <td>RF</td>\n",
       "      <td>0.000572</td>\n",
       "    </tr>\n",
       "    <tr>\n",
       "      <th>83</th>\n",
       "      <td>Reactions</td>\n",
       "      <td>0.000570</td>\n",
       "    </tr>\n",
       "    <tr>\n",
       "      <th>29</th>\n",
       "      <td>ShotPower</td>\n",
       "      <td>0.000533</td>\n",
       "    </tr>\n",
       "    <tr>\n",
       "      <th>80</th>\n",
       "      <td>RCB</td>\n",
       "      <td>0.000418</td>\n",
       "    </tr>\n",
       "  </tbody>\n",
       "</table>\n",
       "</div>"
      ],
      "text/plain": [
       "                 0         1\n",
       "73             LDM  0.312203\n",
       "65             CDM  0.301418\n",
       "60             RDM  0.250126\n",
       "32           Value  0.063306\n",
       "55         Special  0.009791\n",
       "31             RCM  0.009610\n",
       "12             LCM  0.009395\n",
       "51              CM  0.008936\n",
       "38       Potential  0.002642\n",
       "6               LM  0.002006\n",
       "69             RWB  0.002004\n",
       "21             RAM  0.001763\n",
       "49             LAM  0.001705\n",
       "52              RM  0.001687\n",
       "5              CAM  0.001660\n",
       "71              LF  0.001319\n",
       "36     BallControl  0.001164\n",
       "59              RW  0.001153\n",
       "42              LW  0.001115\n",
       "62             Age  0.001078\n",
       "74            Wage  0.000903\n",
       "57              ST  0.000888\n",
       "67          Vision  0.000804\n",
       "22              CF  0.000768\n",
       "37       Dribbling  0.000725\n",
       "18  StandingTackle  0.000595\n",
       "84              RF  0.000572\n",
       "83       Reactions  0.000570\n",
       "29       ShotPower  0.000533\n",
       "80             RCB  0.000418"
      ]
     },
     "execution_count": 24,
     "metadata": {},
     "output_type": "execute_result"
    }
   ],
   "source": [
    "# DM feature importance\n",
    "dm_fi = []\n",
    "for i, col in enumerate(X_dm_test.columns):\n",
    "    dm_fi.append([col, dm_RF_model.feature_importances_[i]])\n",
    "pd.DataFrame(dm_fi).sort_values(1, ascending=False).head(30)"
   ]
  },
  {
   "cell_type": "code",
   "execution_count": 25,
   "metadata": {},
   "outputs": [
    {
     "name": "stderr",
     "output_type": "stream",
     "text": [
      "G:\\Anaconda3\\lib\\site-packages\\ipykernel_launcher.py:3: SettingWithCopyWarning: \n",
      "A value is trying to be set on a copy of a slice from a DataFrame.\n",
      "Try using .loc[row_indexer,col_indexer] = value instead\n",
      "\n",
      "See the caveats in the documentation: http://pandas.pydata.org/pandas-docs/stable/indexing.html#indexing-view-versus-copy\n",
      "  This is separate from the ipykernel package so we can avoid doing imports until\n"
     ]
    },
    {
     "data": {
      "text/plain": [
       "abs_error                   1.000000\n",
       "Value                       0.262669\n",
       "SprintSpeed                 0.230883\n",
       "Acceleration                0.225124\n",
       "Balance                     0.206740\n",
       "AWR_High                    0.206670\n",
       "RW                          0.203715\n",
       "LW                          0.203715\n",
       "Agility                     0.203644\n",
       "LM                          0.199087\n",
       "RM                          0.199087\n",
       "Skill Moves                 0.197067\n",
       "Wage                        0.191365\n",
       "CAM                         0.190618\n",
       "LAM                         0.190618\n",
       "RAM                         0.190618\n",
       "Dribbling                   0.187549\n",
       "LF                          0.185349\n",
       "CF                          0.185349\n",
       "RF                          0.185349\n",
       "Finishing                   0.182798\n",
       "DWR_Low                     0.178033\n",
       "BallControl                 0.176969\n",
       "International Reputation    0.174458\n",
       "Volleys                     0.154168\n",
       "ST                          0.154133\n",
       "LS                          0.154133\n",
       "RS                          0.154133\n",
       "Positioning                 0.142810\n",
       "ShortPassing                0.121274\n",
       "Name: abs_error, dtype: float64"
      ]
     },
     "execution_count": 25,
     "metadata": {},
     "output_type": "execute_result"
    }
   ],
   "source": [
    "# DM error analysis\n",
    "y_dm_test.columns = ['True Value']\n",
    "y_dm_test['Predicted Value'] = dm_RF_pred\n",
    "\n",
    "df_dm_error = pd.concat([X_dm_test, y_dm_test], axis=1)\n",
    "df_dm_error['abs_error'] = abs(df_dm_error['Predicted Value'] - df_dm_error['True Value'])\n",
    "df_dm_error.corr()['abs_error'].dropna().sort_values(ascending = False).head(30)"
   ]
  },
  {
   "cell_type": "code",
   "execution_count": 26,
   "metadata": {},
   "outputs": [
    {
     "data": {
      "text/html": [
       "<div>\n",
       "<style scoped>\n",
       "    .dataframe tbody tr th:only-of-type {\n",
       "        vertical-align: middle;\n",
       "    }\n",
       "\n",
       "    .dataframe tbody tr th {\n",
       "        vertical-align: top;\n",
       "    }\n",
       "\n",
       "    .dataframe thead th {\n",
       "        text-align: right;\n",
       "    }\n",
       "</style>\n",
       "<table border=\"1\" class=\"dataframe\">\n",
       "  <thead>\n",
       "    <tr style=\"text-align: right;\">\n",
       "      <th></th>\n",
       "      <th>0</th>\n",
       "      <th>1</th>\n",
       "    </tr>\n",
       "  </thead>\n",
       "  <tbody>\n",
       "    <tr>\n",
       "      <th>48</th>\n",
       "      <td>RB</td>\n",
       "      <td>0.457495</td>\n",
       "    </tr>\n",
       "    <tr>\n",
       "      <th>7</th>\n",
       "      <td>LB</td>\n",
       "      <td>0.456143</td>\n",
       "    </tr>\n",
       "    <tr>\n",
       "      <th>69</th>\n",
       "      <td>RWB</td>\n",
       "      <td>0.030159</td>\n",
       "    </tr>\n",
       "    <tr>\n",
       "      <th>77</th>\n",
       "      <td>LWB</td>\n",
       "      <td>0.025138</td>\n",
       "    </tr>\n",
       "    <tr>\n",
       "      <th>32</th>\n",
       "      <td>Value</td>\n",
       "      <td>0.014844</td>\n",
       "    </tr>\n",
       "    <tr>\n",
       "      <th>60</th>\n",
       "      <td>RDM</td>\n",
       "      <td>0.001513</td>\n",
       "    </tr>\n",
       "    <tr>\n",
       "      <th>38</th>\n",
       "      <td>Potential</td>\n",
       "      <td>0.001458</td>\n",
       "    </tr>\n",
       "    <tr>\n",
       "      <th>65</th>\n",
       "      <td>CDM</td>\n",
       "      <td>0.000692</td>\n",
       "    </tr>\n",
       "    <tr>\n",
       "      <th>80</th>\n",
       "      <td>RCB</td>\n",
       "      <td>0.000658</td>\n",
       "    </tr>\n",
       "    <tr>\n",
       "      <th>62</th>\n",
       "      <td>Age</td>\n",
       "      <td>0.000648</td>\n",
       "    </tr>\n",
       "    <tr>\n",
       "      <th>70</th>\n",
       "      <td>CB</td>\n",
       "      <td>0.000631</td>\n",
       "    </tr>\n",
       "    <tr>\n",
       "      <th>30</th>\n",
       "      <td>LCB</td>\n",
       "      <td>0.000557</td>\n",
       "    </tr>\n",
       "    <tr>\n",
       "      <th>6</th>\n",
       "      <td>LM</td>\n",
       "      <td>0.000451</td>\n",
       "    </tr>\n",
       "    <tr>\n",
       "      <th>19</th>\n",
       "      <td>ShortPassing</td>\n",
       "      <td>0.000349</td>\n",
       "    </tr>\n",
       "    <tr>\n",
       "      <th>74</th>\n",
       "      <td>Wage</td>\n",
       "      <td>0.000326</td>\n",
       "    </tr>\n",
       "    <tr>\n",
       "      <th>3</th>\n",
       "      <td>HeadingAccuracy</td>\n",
       "      <td>0.000309</td>\n",
       "    </tr>\n",
       "    <tr>\n",
       "      <th>83</th>\n",
       "      <td>Reactions</td>\n",
       "      <td>0.000290</td>\n",
       "    </tr>\n",
       "    <tr>\n",
       "      <th>21</th>\n",
       "      <td>RAM</td>\n",
       "      <td>0.000277</td>\n",
       "    </tr>\n",
       "    <tr>\n",
       "      <th>66</th>\n",
       "      <td>Crossing</td>\n",
       "      <td>0.000277</td>\n",
       "    </tr>\n",
       "    <tr>\n",
       "      <th>42</th>\n",
       "      <td>LW</td>\n",
       "      <td>0.000259</td>\n",
       "    </tr>\n",
       "    <tr>\n",
       "      <th>52</th>\n",
       "      <td>RM</td>\n",
       "      <td>0.000253</td>\n",
       "    </tr>\n",
       "    <tr>\n",
       "      <th>73</th>\n",
       "      <td>LDM</td>\n",
       "      <td>0.000249</td>\n",
       "    </tr>\n",
       "    <tr>\n",
       "      <th>55</th>\n",
       "      <td>Special</td>\n",
       "      <td>0.000237</td>\n",
       "    </tr>\n",
       "    <tr>\n",
       "      <th>51</th>\n",
       "      <td>CM</td>\n",
       "      <td>0.000232</td>\n",
       "    </tr>\n",
       "    <tr>\n",
       "      <th>59</th>\n",
       "      <td>RW</td>\n",
       "      <td>0.000211</td>\n",
       "    </tr>\n",
       "    <tr>\n",
       "      <th>27</th>\n",
       "      <td>Marking</td>\n",
       "      <td>0.000204</td>\n",
       "    </tr>\n",
       "    <tr>\n",
       "      <th>11</th>\n",
       "      <td>Strength</td>\n",
       "      <td>0.000202</td>\n",
       "    </tr>\n",
       "    <tr>\n",
       "      <th>44</th>\n",
       "      <td>Stamina</td>\n",
       "      <td>0.000194</td>\n",
       "    </tr>\n",
       "    <tr>\n",
       "      <th>79</th>\n",
       "      <td>SlidingTackle</td>\n",
       "      <td>0.000193</td>\n",
       "    </tr>\n",
       "    <tr>\n",
       "      <th>76</th>\n",
       "      <td>LongShots</td>\n",
       "      <td>0.000188</td>\n",
       "    </tr>\n",
       "  </tbody>\n",
       "</table>\n",
       "</div>"
      ],
      "text/plain": [
       "                  0         1\n",
       "48               RB  0.457495\n",
       "7                LB  0.456143\n",
       "69              RWB  0.030159\n",
       "77              LWB  0.025138\n",
       "32            Value  0.014844\n",
       "60              RDM  0.001513\n",
       "38        Potential  0.001458\n",
       "65              CDM  0.000692\n",
       "80              RCB  0.000658\n",
       "62              Age  0.000648\n",
       "70               CB  0.000631\n",
       "30              LCB  0.000557\n",
       "6                LM  0.000451\n",
       "19     ShortPassing  0.000349\n",
       "74             Wage  0.000326\n",
       "3   HeadingAccuracy  0.000309\n",
       "83        Reactions  0.000290\n",
       "21              RAM  0.000277\n",
       "66         Crossing  0.000277\n",
       "42               LW  0.000259\n",
       "52               RM  0.000253\n",
       "73              LDM  0.000249\n",
       "55          Special  0.000237\n",
       "51               CM  0.000232\n",
       "59               RW  0.000211\n",
       "27          Marking  0.000204\n",
       "11         Strength  0.000202\n",
       "44          Stamina  0.000194\n",
       "79    SlidingTackle  0.000193\n",
       "76        LongShots  0.000188"
      ]
     },
     "execution_count": 26,
     "metadata": {},
     "output_type": "execute_result"
    }
   ],
   "source": [
    "# Fullback feature importance\n",
    "fullback_fi = []\n",
    "for i, col in enumerate(X_fullback_test.columns):\n",
    "    fullback_fi.append([col, fullback_RF_model.feature_importances_[i]])\n",
    "pd.DataFrame(fullback_fi).sort_values(1, ascending=False).head(30)"
   ]
  },
  {
   "cell_type": "code",
   "execution_count": 27,
   "metadata": {},
   "outputs": [
    {
     "name": "stderr",
     "output_type": "stream",
     "text": [
      "G:\\Anaconda3\\lib\\site-packages\\ipykernel_launcher.py:3: SettingWithCopyWarning: \n",
      "A value is trying to be set on a copy of a slice from a DataFrame.\n",
      "Try using .loc[row_indexer,col_indexer] = value instead\n",
      "\n",
      "See the caveats in the documentation: http://pandas.pydata.org/pandas-docs/stable/indexing.html#indexing-view-versus-copy\n",
      "  This is separate from the ipykernel package so we can avoid doing imports until\n"
     ]
    },
    {
     "data": {
      "text/plain": [
       "abs_error                   1.000000\n",
       "Value                       0.172496\n",
       "Height                      0.138579\n",
       "Weight                      0.130079\n",
       "Wage                        0.128526\n",
       "AWR_Low                     0.116974\n",
       "HeadingAccuracy             0.106267\n",
       "International Reputation    0.092205\n",
       "Potential                   0.087840\n",
       "Strength                    0.068327\n",
       "AWR_Medium                  0.053744\n",
       "Finishing                   0.052287\n",
       "DWR_High                    0.031613\n",
       "Foot_Left                   0.028353\n",
       "GKHandling                  0.021801\n",
       "Weak Foot                   0.016913\n",
       "LS                         -0.012505\n",
       "ST                         -0.012505\n",
       "RS                         -0.012505\n",
       "ShortPassing               -0.017700\n",
       "DWR_Low                    -0.019085\n",
       "True Value                 -0.019817\n",
       "GKDiving                   -0.020864\n",
       "Penalties                  -0.023235\n",
       "DWR_Medium                 -0.023874\n",
       "ShotPower                  -0.026190\n",
       "Foot_Right                 -0.028353\n",
       "LongShots                  -0.033398\n",
       "Volleys                    -0.034983\n",
       "LongPassing                -0.035529\n",
       "Name: abs_error, dtype: float64"
      ]
     },
     "execution_count": 27,
     "metadata": {},
     "output_type": "execute_result"
    }
   ],
   "source": [
    "# Fullback error analysis\n",
    "y_fullback_test.columns = ['True Value']\n",
    "y_fullback_test['Predicted Value'] = fullback_RF_pred\n",
    "\n",
    "df_fullback_error = pd.concat([X_fullback_test, y_fullback_test], axis=1)\n",
    "df_fullback_error['abs_error'] = abs(df_fullback_error['Predicted Value'] - df_fullback_error['True Value'])\n",
    "df_fullback_error.corr()['abs_error'].dropna().sort_values(ascending = False).head(30)"
   ]
  },
  {
   "cell_type": "code",
   "execution_count": 28,
   "metadata": {},
   "outputs": [
    {
     "data": {
      "text/html": [
       "<div>\n",
       "<style scoped>\n",
       "    .dataframe tbody tr th:only-of-type {\n",
       "        vertical-align: middle;\n",
       "    }\n",
       "\n",
       "    .dataframe tbody tr th {\n",
       "        vertical-align: top;\n",
       "    }\n",
       "\n",
       "    .dataframe thead th {\n",
       "        text-align: right;\n",
       "    }\n",
       "</style>\n",
       "<table border=\"1\" class=\"dataframe\">\n",
       "  <thead>\n",
       "    <tr style=\"text-align: right;\">\n",
       "      <th></th>\n",
       "      <th>0</th>\n",
       "      <th>1</th>\n",
       "    </tr>\n",
       "  </thead>\n",
       "  <tbody>\n",
       "    <tr>\n",
       "      <th>70</th>\n",
       "      <td>CB</td>\n",
       "      <td>0.394080</td>\n",
       "    </tr>\n",
       "    <tr>\n",
       "      <th>80</th>\n",
       "      <td>RCB</td>\n",
       "      <td>0.302798</td>\n",
       "    </tr>\n",
       "    <tr>\n",
       "      <th>30</th>\n",
       "      <td>LCB</td>\n",
       "      <td>0.289217</td>\n",
       "    </tr>\n",
       "    <tr>\n",
       "      <th>32</th>\n",
       "      <td>Value</td>\n",
       "      <td>0.003774</td>\n",
       "    </tr>\n",
       "    <tr>\n",
       "      <th>38</th>\n",
       "      <td>Potential</td>\n",
       "      <td>0.001378</td>\n",
       "    </tr>\n",
       "    <tr>\n",
       "      <th>62</th>\n",
       "      <td>Age</td>\n",
       "      <td>0.000699</td>\n",
       "    </tr>\n",
       "    <tr>\n",
       "      <th>21</th>\n",
       "      <td>RAM</td>\n",
       "      <td>0.000332</td>\n",
       "    </tr>\n",
       "    <tr>\n",
       "      <th>49</th>\n",
       "      <td>LAM</td>\n",
       "      <td>0.000297</td>\n",
       "    </tr>\n",
       "    <tr>\n",
       "      <th>22</th>\n",
       "      <td>CF</td>\n",
       "      <td>0.000269</td>\n",
       "    </tr>\n",
       "    <tr>\n",
       "      <th>41</th>\n",
       "      <td>Composure</td>\n",
       "      <td>0.000250</td>\n",
       "    </tr>\n",
       "    <tr>\n",
       "      <th>52</th>\n",
       "      <td>RM</td>\n",
       "      <td>0.000245</td>\n",
       "    </tr>\n",
       "    <tr>\n",
       "      <th>14</th>\n",
       "      <td>Positioning</td>\n",
       "      <td>0.000227</td>\n",
       "    </tr>\n",
       "    <tr>\n",
       "      <th>37</th>\n",
       "      <td>Dribbling</td>\n",
       "      <td>0.000215</td>\n",
       "    </tr>\n",
       "    <tr>\n",
       "      <th>27</th>\n",
       "      <td>Marking</td>\n",
       "      <td>0.000203</td>\n",
       "    </tr>\n",
       "    <tr>\n",
       "      <th>59</th>\n",
       "      <td>RW</td>\n",
       "      <td>0.000202</td>\n",
       "    </tr>\n",
       "    <tr>\n",
       "      <th>26</th>\n",
       "      <td>Agility</td>\n",
       "      <td>0.000201</td>\n",
       "    </tr>\n",
       "    <tr>\n",
       "      <th>60</th>\n",
       "      <td>RDM</td>\n",
       "      <td>0.000197</td>\n",
       "    </tr>\n",
       "    <tr>\n",
       "      <th>31</th>\n",
       "      <td>RCM</td>\n",
       "      <td>0.000190</td>\n",
       "    </tr>\n",
       "    <tr>\n",
       "      <th>36</th>\n",
       "      <td>BallControl</td>\n",
       "      <td>0.000185</td>\n",
       "    </tr>\n",
       "    <tr>\n",
       "      <th>40</th>\n",
       "      <td>Interceptions</td>\n",
       "      <td>0.000170</td>\n",
       "    </tr>\n",
       "    <tr>\n",
       "      <th>35</th>\n",
       "      <td>Aggression</td>\n",
       "      <td>0.000167</td>\n",
       "    </tr>\n",
       "    <tr>\n",
       "      <th>78</th>\n",
       "      <td>Finishing</td>\n",
       "      <td>0.000165</td>\n",
       "    </tr>\n",
       "    <tr>\n",
       "      <th>18</th>\n",
       "      <td>StandingTackle</td>\n",
       "      <td>0.000160</td>\n",
       "    </tr>\n",
       "    <tr>\n",
       "      <th>83</th>\n",
       "      <td>Reactions</td>\n",
       "      <td>0.000158</td>\n",
       "    </tr>\n",
       "    <tr>\n",
       "      <th>76</th>\n",
       "      <td>LongShots</td>\n",
       "      <td>0.000150</td>\n",
       "    </tr>\n",
       "    <tr>\n",
       "      <th>84</th>\n",
       "      <td>RF</td>\n",
       "      <td>0.000148</td>\n",
       "    </tr>\n",
       "    <tr>\n",
       "      <th>71</th>\n",
       "      <td>LF</td>\n",
       "      <td>0.000147</td>\n",
       "    </tr>\n",
       "    <tr>\n",
       "      <th>29</th>\n",
       "      <td>ShotPower</td>\n",
       "      <td>0.000143</td>\n",
       "    </tr>\n",
       "    <tr>\n",
       "      <th>19</th>\n",
       "      <td>ShortPassing</td>\n",
       "      <td>0.000141</td>\n",
       "    </tr>\n",
       "    <tr>\n",
       "      <th>67</th>\n",
       "      <td>Vision</td>\n",
       "      <td>0.000133</td>\n",
       "    </tr>\n",
       "  </tbody>\n",
       "</table>\n",
       "</div>"
      ],
      "text/plain": [
       "                 0         1\n",
       "70              CB  0.394080\n",
       "80             RCB  0.302798\n",
       "30             LCB  0.289217\n",
       "32           Value  0.003774\n",
       "38       Potential  0.001378\n",
       "62             Age  0.000699\n",
       "21             RAM  0.000332\n",
       "49             LAM  0.000297\n",
       "22              CF  0.000269\n",
       "41       Composure  0.000250\n",
       "52              RM  0.000245\n",
       "14     Positioning  0.000227\n",
       "37       Dribbling  0.000215\n",
       "27         Marking  0.000203\n",
       "59              RW  0.000202\n",
       "26         Agility  0.000201\n",
       "60             RDM  0.000197\n",
       "31             RCM  0.000190\n",
       "36     BallControl  0.000185\n",
       "40   Interceptions  0.000170\n",
       "35      Aggression  0.000167\n",
       "78       Finishing  0.000165\n",
       "18  StandingTackle  0.000160\n",
       "83       Reactions  0.000158\n",
       "76       LongShots  0.000150\n",
       "84              RF  0.000148\n",
       "71              LF  0.000147\n",
       "29       ShotPower  0.000143\n",
       "19    ShortPassing  0.000141\n",
       "67          Vision  0.000133"
      ]
     },
     "execution_count": 28,
     "metadata": {},
     "output_type": "execute_result"
    }
   ],
   "source": [
    "# CB feature importance\n",
    "cb_fi = []\n",
    "for i, col in enumerate(X_cb_test.columns):\n",
    "    cb_fi.append([col, cb_RF_model.feature_importances_[i]])\n",
    "pd.DataFrame(cb_fi).sort_values(1, ascending=False).head(30)"
   ]
  },
  {
   "cell_type": "code",
   "execution_count": 29,
   "metadata": {},
   "outputs": [
    {
     "name": "stderr",
     "output_type": "stream",
     "text": [
      "G:\\Anaconda3\\lib\\site-packages\\ipykernel_launcher.py:3: SettingWithCopyWarning: \n",
      "A value is trying to be set on a copy of a slice from a DataFrame.\n",
      "Try using .loc[row_indexer,col_indexer] = value instead\n",
      "\n",
      "See the caveats in the documentation: http://pandas.pydata.org/pandas-docs/stable/indexing.html#indexing-view-versus-copy\n",
      "  This is separate from the ipykernel package so we can avoid doing imports until\n"
     ]
    },
    {
     "data": {
      "text/plain": [
       "abs_error                   1.000000\n",
       "Wage                        0.356345\n",
       "Value                       0.318164\n",
       "International Reputation    0.214018\n",
       "SprintSpeed                 0.167097\n",
       "Acceleration                0.158589\n",
       "Skill Moves                 0.152688\n",
       "Potential                   0.128278\n",
       "Volleys                     0.102580\n",
       "Stamina                     0.091532\n",
       "RWB                         0.085352\n",
       "LWB                         0.085352\n",
       "LB                          0.084747\n",
       "RB                          0.084747\n",
       "RM                          0.073988\n",
       "LM                          0.073988\n",
       "RW                          0.072318\n",
       "LW                          0.072318\n",
       "Balance                     0.068966\n",
       "Dribbling                   0.065946\n",
       "StandingTackle              0.065801\n",
       "SlidingTackle               0.064296\n",
       "AWR_High                    0.060498\n",
       "RF                          0.060250\n",
       "LF                          0.060250\n",
       "CF                          0.060250\n",
       "Special                     0.058521\n",
       "ST                          0.058296\n",
       "LS                          0.058296\n",
       "RS                          0.058296\n",
       "Name: abs_error, dtype: float64"
      ]
     },
     "execution_count": 29,
     "metadata": {},
     "output_type": "execute_result"
    }
   ],
   "source": [
    "# CB error analysis\n",
    "y_cb_test.columns = ['True Value']\n",
    "y_cb_test['Predicted Value'] = cb_RF_pred\n",
    "\n",
    "df_cb_error = pd.concat([X_cb_test, y_cb_test], axis=1)\n",
    "df_cb_error['abs_error'] = abs(df_cb_error['Predicted Value'] - df_cb_error['True Value'])\n",
    "df_cb_error.corr()['abs_error'].dropna().sort_values(ascending = False).head(30)"
   ]
  },
  {
   "cell_type": "code",
   "execution_count": 30,
   "metadata": {},
   "outputs": [
    {
     "data": {
      "text/html": [
       "<div>\n",
       "<style scoped>\n",
       "    .dataframe tbody tr th:only-of-type {\n",
       "        vertical-align: middle;\n",
       "    }\n",
       "\n",
       "    .dataframe tbody tr th {\n",
       "        vertical-align: top;\n",
       "    }\n",
       "\n",
       "    .dataframe thead th {\n",
       "        text-align: right;\n",
       "    }\n",
       "</style>\n",
       "<table border=\"1\" class=\"dataframe\">\n",
       "  <thead>\n",
       "    <tr style=\"text-align: right;\">\n",
       "      <th></th>\n",
       "      <th>0</th>\n",
       "      <th>1</th>\n",
       "    </tr>\n",
       "  </thead>\n",
       "  <tbody>\n",
       "    <tr>\n",
       "      <th>72</th>\n",
       "      <td>GKDiving</td>\n",
       "      <td>0.382908</td>\n",
       "    </tr>\n",
       "    <tr>\n",
       "      <th>34</th>\n",
       "      <td>GKPositioning</td>\n",
       "      <td>0.254674</td>\n",
       "    </tr>\n",
       "    <tr>\n",
       "      <th>46</th>\n",
       "      <td>GKReflexes</td>\n",
       "      <td>0.234172</td>\n",
       "    </tr>\n",
       "    <tr>\n",
       "      <th>32</th>\n",
       "      <td>Value</td>\n",
       "      <td>0.075324</td>\n",
       "    </tr>\n",
       "    <tr>\n",
       "      <th>0</th>\n",
       "      <td>GKHandling</td>\n",
       "      <td>0.021513</td>\n",
       "    </tr>\n",
       "    <tr>\n",
       "      <th>83</th>\n",
       "      <td>Reactions</td>\n",
       "      <td>0.008878</td>\n",
       "    </tr>\n",
       "    <tr>\n",
       "      <th>38</th>\n",
       "      <td>Potential</td>\n",
       "      <td>0.006808</td>\n",
       "    </tr>\n",
       "    <tr>\n",
       "      <th>62</th>\n",
       "      <td>Age</td>\n",
       "      <td>0.003907</td>\n",
       "    </tr>\n",
       "    <tr>\n",
       "      <th>55</th>\n",
       "      <td>Special</td>\n",
       "      <td>0.001195</td>\n",
       "    </tr>\n",
       "    <tr>\n",
       "      <th>74</th>\n",
       "      <td>Wage</td>\n",
       "      <td>0.001133</td>\n",
       "    </tr>\n",
       "    <tr>\n",
       "      <th>47</th>\n",
       "      <td>GKKicking</td>\n",
       "      <td>0.001009</td>\n",
       "    </tr>\n",
       "    <tr>\n",
       "      <th>41</th>\n",
       "      <td>Composure</td>\n",
       "      <td>0.000524</td>\n",
       "    </tr>\n",
       "    <tr>\n",
       "      <th>11</th>\n",
       "      <td>Strength</td>\n",
       "      <td>0.000380</td>\n",
       "    </tr>\n",
       "    <tr>\n",
       "      <th>67</th>\n",
       "      <td>Vision</td>\n",
       "      <td>0.000372</td>\n",
       "    </tr>\n",
       "    <tr>\n",
       "      <th>26</th>\n",
       "      <td>Agility</td>\n",
       "      <td>0.000351</td>\n",
       "    </tr>\n",
       "    <tr>\n",
       "      <th>19</th>\n",
       "      <td>ShortPassing</td>\n",
       "      <td>0.000343</td>\n",
       "    </tr>\n",
       "    <tr>\n",
       "      <th>10</th>\n",
       "      <td>Jumping</td>\n",
       "      <td>0.000342</td>\n",
       "    </tr>\n",
       "    <tr>\n",
       "      <th>27</th>\n",
       "      <td>Marking</td>\n",
       "      <td>0.000327</td>\n",
       "    </tr>\n",
       "    <tr>\n",
       "      <th>58</th>\n",
       "      <td>SprintSpeed</td>\n",
       "      <td>0.000322</td>\n",
       "    </tr>\n",
       "    <tr>\n",
       "      <th>35</th>\n",
       "      <td>Aggression</td>\n",
       "      <td>0.000307</td>\n",
       "    </tr>\n",
       "    <tr>\n",
       "      <th>33</th>\n",
       "      <td>LongPassing</td>\n",
       "      <td>0.000285</td>\n",
       "    </tr>\n",
       "    <tr>\n",
       "      <th>29</th>\n",
       "      <td>ShotPower</td>\n",
       "      <td>0.000283</td>\n",
       "    </tr>\n",
       "    <tr>\n",
       "      <th>36</th>\n",
       "      <td>BallControl</td>\n",
       "      <td>0.000278</td>\n",
       "    </tr>\n",
       "    <tr>\n",
       "      <th>40</th>\n",
       "      <td>Interceptions</td>\n",
       "      <td>0.000278</td>\n",
       "    </tr>\n",
       "    <tr>\n",
       "      <th>15</th>\n",
       "      <td>FKAccuracy</td>\n",
       "      <td>0.000275</td>\n",
       "    </tr>\n",
       "    <tr>\n",
       "      <th>24</th>\n",
       "      <td>Acceleration</td>\n",
       "      <td>0.000269</td>\n",
       "    </tr>\n",
       "    <tr>\n",
       "      <th>61</th>\n",
       "      <td>Balance</td>\n",
       "      <td>0.000260</td>\n",
       "    </tr>\n",
       "    <tr>\n",
       "      <th>76</th>\n",
       "      <td>LongShots</td>\n",
       "      <td>0.000258</td>\n",
       "    </tr>\n",
       "    <tr>\n",
       "      <th>14</th>\n",
       "      <td>Positioning</td>\n",
       "      <td>0.000258</td>\n",
       "    </tr>\n",
       "    <tr>\n",
       "      <th>44</th>\n",
       "      <td>Stamina</td>\n",
       "      <td>0.000255</td>\n",
       "    </tr>\n",
       "  </tbody>\n",
       "</table>\n",
       "</div>"
      ],
      "text/plain": [
       "                0         1\n",
       "72       GKDiving  0.382908\n",
       "34  GKPositioning  0.254674\n",
       "46     GKReflexes  0.234172\n",
       "32          Value  0.075324\n",
       "0      GKHandling  0.021513\n",
       "83      Reactions  0.008878\n",
       "38      Potential  0.006808\n",
       "62            Age  0.003907\n",
       "55        Special  0.001195\n",
       "74           Wage  0.001133\n",
       "47      GKKicking  0.001009\n",
       "41      Composure  0.000524\n",
       "11       Strength  0.000380\n",
       "67         Vision  0.000372\n",
       "26        Agility  0.000351\n",
       "19   ShortPassing  0.000343\n",
       "10        Jumping  0.000342\n",
       "27        Marking  0.000327\n",
       "58    SprintSpeed  0.000322\n",
       "35     Aggression  0.000307\n",
       "33    LongPassing  0.000285\n",
       "29      ShotPower  0.000283\n",
       "36    BallControl  0.000278\n",
       "40  Interceptions  0.000278\n",
       "15     FKAccuracy  0.000275\n",
       "24   Acceleration  0.000269\n",
       "61        Balance  0.000260\n",
       "76      LongShots  0.000258\n",
       "14    Positioning  0.000258\n",
       "44        Stamina  0.000255"
      ]
     },
     "execution_count": 30,
     "metadata": {},
     "output_type": "execute_result"
    }
   ],
   "source": [
    "# GK feature importance\n",
    "gk_fi = []\n",
    "for i, col in enumerate(X_gk_test.columns):\n",
    "    gk_fi.append([col, gk_RF_model.feature_importances_[i]])\n",
    "pd.DataFrame(gk_fi).sort_values(1, ascending=False).head(30)"
   ]
  },
  {
   "cell_type": "code",
   "execution_count": 31,
   "metadata": {},
   "outputs": [
    {
     "name": "stderr",
     "output_type": "stream",
     "text": [
      "G:\\Anaconda3\\lib\\site-packages\\ipykernel_launcher.py:3: SettingWithCopyWarning: \n",
      "A value is trying to be set on a copy of a slice from a DataFrame.\n",
      "Try using .loc[row_indexer,col_indexer] = value instead\n",
      "\n",
      "See the caveats in the documentation: http://pandas.pydata.org/pandas-docs/stable/indexing.html#indexing-view-versus-copy\n",
      "  This is separate from the ipykernel package so we can avoid doing imports until\n"
     ]
    },
    {
     "data": {
      "text/plain": [
       "abs_error                   1.000000\n",
       "Value                       0.255300\n",
       "Wage                        0.213137\n",
       "International Reputation    0.197873\n",
       "Weak Foot                   0.101701\n",
       "Height                      0.086297\n",
       "GKHandling                  0.073590\n",
       "BallControl                 0.066538\n",
       "Vision                      0.059222\n",
       "Aggression                  0.056908\n",
       "LongPassing                 0.056222\n",
       "Potential                   0.055764\n",
       "Marking                     0.054874\n",
       "GKPositioning               0.054553\n",
       "HeadingAccuracy             0.053536\n",
       "ShotPower                   0.050345\n",
       "Age                         0.041494\n",
       "GKKicking                   0.032260\n",
       "ShortPassing                0.029706\n",
       "Dribbling                   0.027875\n",
       "Weight                      0.026511\n",
       "Foot_Left                   0.025529\n",
       "LongShots                   0.025133\n",
       "True Value                  0.020990\n",
       "Interceptions               0.018143\n",
       "Predicted Value             0.018001\n",
       "Strength                    0.015750\n",
       "Curve                       0.008805\n",
       "Crossing                    0.007062\n",
       "GKReflexes                  0.006371\n",
       "Name: abs_error, dtype: float64"
      ]
     },
     "execution_count": 31,
     "metadata": {},
     "output_type": "execute_result"
    }
   ],
   "source": [
    "# GK error analysis\n",
    "y_gk_test.columns = ['True Value']\n",
    "y_gk_test['Predicted Value'] = gk_RF_pred\n",
    "\n",
    "df_gk_error = pd.concat([X_gk_test, y_gk_test], axis=1)\n",
    "df_gk_error['abs_error'] = abs(df_gk_error['Predicted Value'] - df_gk_error['True Value'])\n",
    "df_gk_error.corr()['abs_error'].dropna().sort_values(ascending = False).head(30)"
   ]
  },
  {
   "cell_type": "code",
   "execution_count": null,
   "metadata": {},
   "outputs": [],
   "source": []
  }
 ],
 "metadata": {
  "kernelspec": {
   "display_name": "Python 3",
   "language": "python",
   "name": "python3"
  },
  "language_info": {
   "codemirror_mode": {
    "name": "ipython",
    "version": 3
   },
   "file_extension": ".py",
   "mimetype": "text/x-python",
   "name": "python",
   "nbconvert_exporter": "python",
   "pygments_lexer": "ipython3",
   "version": "3.7.1"
  }
 },
 "nbformat": 4,
 "nbformat_minor": 2
}
