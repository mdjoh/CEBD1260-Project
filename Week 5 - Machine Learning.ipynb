{
 "cells": [
  {
   "cell_type": "markdown",
   "metadata": {},
   "source": [
    "## FIFA 19 Machine Learning"
   ]
  },
  {
   "cell_type": "code",
   "execution_count": 1,
   "metadata": {},
   "outputs": [],
   "source": [
    "# import libraries\n",
    "%matplotlib inline\n",
    "\n",
    "import pandas as pd\n",
    "import numpy as np\n",
    "import matplotlib.pyplot as plt\n",
    "import seaborn as sns\n",
    "\n",
    "# sklearn :: utils\n",
    "from sklearn.model_selection import train_test_split\n",
    "\n",
    "# sklearn :: models\n",
    "from sklearn.linear_model import LinearRegression\n",
    "from sklearn.ensemble import RandomForestRegressor\n",
    "\n",
    "# sklearn :: evaluation metrics\n",
    "from sklearn.metrics import mean_absolute_error\n",
    "from sklearn.metrics import mean_squared_error\n",
    "\n",
    "sns.set_style('whitegrid')"
   ]
  },
  {
   "cell_type": "markdown",
   "metadata": {},
   "source": [
    "## Import Cleaned Data"
   ]
  },
  {
   "cell_type": "code",
   "execution_count": 2,
   "metadata": {},
   "outputs": [
    {
     "name": "stdout",
     "output_type": "stream",
     "text": [
      "Index(['Name', 'Age', 'Nationality', 'Overall', 'Potential', 'Club', 'Value',\n",
      "       'Wage', 'Special', 'Preferred Foot', 'International Reputation',\n",
      "       'Weak Foot', 'Skill Moves', 'Work Rate', 'Position', 'Height', 'Weight',\n",
      "       'LS', 'ST', 'RS', 'LW', 'LF', 'CF', 'RF', 'RW', 'LAM', 'CAM', 'RAM',\n",
      "       'LM', 'LCM', 'CM', 'RCM', 'RM', 'LWB', 'LDM', 'CDM', 'RDM', 'RWB', 'LB',\n",
      "       'LCB', 'CB', 'RCB', 'RB', 'Crossing', 'Finishing', 'HeadingAccuracy',\n",
      "       'ShortPassing', 'Volleys', 'Dribbling', 'Curve', 'FKAccuracy',\n",
      "       'LongPassing', 'BallControl', 'Acceleration', 'SprintSpeed', 'Agility',\n",
      "       'Reactions', 'Balance', 'ShotPower', 'Jumping', 'Stamina', 'Strength',\n",
      "       'LongShots', 'Aggression', 'Interceptions', 'Positioning', 'Vision',\n",
      "       'Penalties', 'Composure', 'Marking', 'StandingTackle', 'SlidingTackle',\n",
      "       'GKDiving', 'GKHandling', 'GKKicking', 'GKPositioning', 'GKReflexes'],\n",
      "      dtype='object')\n"
     ]
    }
   ],
   "source": [
    "df = pd.read_csv('cleaned data/fifa19data_clean.csv')\n",
    "print(df.columns)"
   ]
  },
  {
   "cell_type": "code",
   "execution_count": 3,
   "metadata": {},
   "outputs": [
    {
     "data": {
      "text/html": [
       "<div>\n",
       "<style scoped>\n",
       "    .dataframe tbody tr th:only-of-type {\n",
       "        vertical-align: middle;\n",
       "    }\n",
       "\n",
       "    .dataframe tbody tr th {\n",
       "        vertical-align: top;\n",
       "    }\n",
       "\n",
       "    .dataframe thead th {\n",
       "        text-align: right;\n",
       "    }\n",
       "</style>\n",
       "<table border=\"1\" class=\"dataframe\">\n",
       "  <thead>\n",
       "    <tr style=\"text-align: right;\">\n",
       "      <th></th>\n",
       "      <th>Name</th>\n",
       "      <th>Age</th>\n",
       "      <th>Nationality</th>\n",
       "      <th>Overall</th>\n",
       "      <th>Potential</th>\n",
       "      <th>Club</th>\n",
       "      <th>Value</th>\n",
       "      <th>Wage</th>\n",
       "      <th>Special</th>\n",
       "      <th>Preferred Foot</th>\n",
       "      <th>...</th>\n",
       "      <th>Penalties</th>\n",
       "      <th>Composure</th>\n",
       "      <th>Marking</th>\n",
       "      <th>StandingTackle</th>\n",
       "      <th>SlidingTackle</th>\n",
       "      <th>GKDiving</th>\n",
       "      <th>GKHandling</th>\n",
       "      <th>GKKicking</th>\n",
       "      <th>GKPositioning</th>\n",
       "      <th>GKReflexes</th>\n",
       "    </tr>\n",
       "  </thead>\n",
       "  <tbody>\n",
       "    <tr>\n",
       "      <th>0</th>\n",
       "      <td>L. Messi</td>\n",
       "      <td>31</td>\n",
       "      <td>Argentina</td>\n",
       "      <td>94</td>\n",
       "      <td>94</td>\n",
       "      <td>FC Barcelona</td>\n",
       "      <td>110.5</td>\n",
       "      <td>565.0</td>\n",
       "      <td>2202</td>\n",
       "      <td>Left</td>\n",
       "      <td>...</td>\n",
       "      <td>75.0</td>\n",
       "      <td>96.0</td>\n",
       "      <td>33.0</td>\n",
       "      <td>28.0</td>\n",
       "      <td>26.0</td>\n",
       "      <td>6.0</td>\n",
       "      <td>11.0</td>\n",
       "      <td>15.0</td>\n",
       "      <td>14.0</td>\n",
       "      <td>8.0</td>\n",
       "    </tr>\n",
       "    <tr>\n",
       "      <th>1</th>\n",
       "      <td>Cristiano Ronaldo</td>\n",
       "      <td>33</td>\n",
       "      <td>Portugal</td>\n",
       "      <td>94</td>\n",
       "      <td>94</td>\n",
       "      <td>Juventus</td>\n",
       "      <td>77.0</td>\n",
       "      <td>405.0</td>\n",
       "      <td>2228</td>\n",
       "      <td>Right</td>\n",
       "      <td>...</td>\n",
       "      <td>85.0</td>\n",
       "      <td>95.0</td>\n",
       "      <td>28.0</td>\n",
       "      <td>31.0</td>\n",
       "      <td>23.0</td>\n",
       "      <td>7.0</td>\n",
       "      <td>11.0</td>\n",
       "      <td>15.0</td>\n",
       "      <td>14.0</td>\n",
       "      <td>11.0</td>\n",
       "    </tr>\n",
       "    <tr>\n",
       "      <th>2</th>\n",
       "      <td>Neymar Jr</td>\n",
       "      <td>26</td>\n",
       "      <td>Brazil</td>\n",
       "      <td>92</td>\n",
       "      <td>93</td>\n",
       "      <td>Paris Saint-Germain</td>\n",
       "      <td>118.5</td>\n",
       "      <td>290.0</td>\n",
       "      <td>2143</td>\n",
       "      <td>Right</td>\n",
       "      <td>...</td>\n",
       "      <td>81.0</td>\n",
       "      <td>94.0</td>\n",
       "      <td>27.0</td>\n",
       "      <td>24.0</td>\n",
       "      <td>33.0</td>\n",
       "      <td>9.0</td>\n",
       "      <td>9.0</td>\n",
       "      <td>15.0</td>\n",
       "      <td>15.0</td>\n",
       "      <td>11.0</td>\n",
       "    </tr>\n",
       "    <tr>\n",
       "      <th>3</th>\n",
       "      <td>De Gea</td>\n",
       "      <td>27</td>\n",
       "      <td>Spain</td>\n",
       "      <td>91</td>\n",
       "      <td>93</td>\n",
       "      <td>Manchester United</td>\n",
       "      <td>72.0</td>\n",
       "      <td>260.0</td>\n",
       "      <td>1471</td>\n",
       "      <td>Right</td>\n",
       "      <td>...</td>\n",
       "      <td>40.0</td>\n",
       "      <td>68.0</td>\n",
       "      <td>15.0</td>\n",
       "      <td>21.0</td>\n",
       "      <td>13.0</td>\n",
       "      <td>90.0</td>\n",
       "      <td>85.0</td>\n",
       "      <td>87.0</td>\n",
       "      <td>88.0</td>\n",
       "      <td>94.0</td>\n",
       "    </tr>\n",
       "    <tr>\n",
       "      <th>4</th>\n",
       "      <td>K. De Bruyne</td>\n",
       "      <td>27</td>\n",
       "      <td>Belgium</td>\n",
       "      <td>91</td>\n",
       "      <td>92</td>\n",
       "      <td>Manchester City</td>\n",
       "      <td>102.0</td>\n",
       "      <td>355.0</td>\n",
       "      <td>2281</td>\n",
       "      <td>Right</td>\n",
       "      <td>...</td>\n",
       "      <td>79.0</td>\n",
       "      <td>88.0</td>\n",
       "      <td>68.0</td>\n",
       "      <td>58.0</td>\n",
       "      <td>51.0</td>\n",
       "      <td>15.0</td>\n",
       "      <td>13.0</td>\n",
       "      <td>5.0</td>\n",
       "      <td>10.0</td>\n",
       "      <td>13.0</td>\n",
       "    </tr>\n",
       "  </tbody>\n",
       "</table>\n",
       "<p>5 rows × 77 columns</p>\n",
       "</div>"
      ],
      "text/plain": [
       "                Name  Age Nationality  Overall  Potential  \\\n",
       "0           L. Messi   31   Argentina       94         94   \n",
       "1  Cristiano Ronaldo   33    Portugal       94         94   \n",
       "2          Neymar Jr   26      Brazil       92         93   \n",
       "3             De Gea   27       Spain       91         93   \n",
       "4       K. De Bruyne   27     Belgium       91         92   \n",
       "\n",
       "                  Club  Value   Wage  Special Preferred Foot  ...  Penalties  \\\n",
       "0         FC Barcelona  110.5  565.0     2202           Left  ...       75.0   \n",
       "1             Juventus   77.0  405.0     2228          Right  ...       85.0   \n",
       "2  Paris Saint-Germain  118.5  290.0     2143          Right  ...       81.0   \n",
       "3    Manchester United   72.0  260.0     1471          Right  ...       40.0   \n",
       "4      Manchester City  102.0  355.0     2281          Right  ...       79.0   \n",
       "\n",
       "   Composure  Marking StandingTackle SlidingTackle  GKDiving  GKHandling  \\\n",
       "0       96.0     33.0           28.0          26.0       6.0        11.0   \n",
       "1       95.0     28.0           31.0          23.0       7.0        11.0   \n",
       "2       94.0     27.0           24.0          33.0       9.0         9.0   \n",
       "3       68.0     15.0           21.0          13.0      90.0        85.0   \n",
       "4       88.0     68.0           58.0          51.0      15.0        13.0   \n",
       "\n",
       "   GKKicking  GKPositioning  GKReflexes  \n",
       "0       15.0           14.0         8.0  \n",
       "1       15.0           14.0        11.0  \n",
       "2       15.0           15.0        11.0  \n",
       "3       87.0           88.0        94.0  \n",
       "4        5.0           10.0        13.0  \n",
       "\n",
       "[5 rows x 77 columns]"
      ]
     },
     "execution_count": 3,
     "metadata": {},
     "output_type": "execute_result"
    }
   ],
   "source": [
    "df.head()"
   ]
  },
  {
   "cell_type": "markdown",
   "metadata": {},
   "source": [
    "## Feature Engineering\n",
    "\n",
    "Split the 'Work Rate' feature into 'Attack Work Rate' and 'Defensive Work Rate' and one-hot encode the following categorical features of the dataset:\n",
    "    - Preferred Foot\n",
    "    - Attack and Defensive Work Rate\n",
    "    - Position"
   ]
  },
  {
   "cell_type": "code",
   "execution_count": 4,
   "metadata": {},
   "outputs": [],
   "source": [
    "# split Work Rate into 2 separate features\n",
    "df['Attack Work Rate'] = df.apply(lambda row: row['Work Rate'].split(\"/ \")[0], axis=1)\n",
    "df['Defensive Work Rate'] = df.apply(lambda row: row['Work Rate'].split(\"/ \")[1], axis=1)"
   ]
  },
  {
   "cell_type": "code",
   "execution_count": 5,
   "metadata": {},
   "outputs": [],
   "source": [
    "# one-hot encode categorical features\n",
    "categorical = ['Preferred Foot', 'Attack Work Rate', 'Defensive Work Rate', 'Position']\n",
    "dummy_prefix = ['Foot', 'AWR', 'DWR', 'Pos']\n",
    "\n",
    "for i in range(0, len(categorical)):\n",
    "    df = pd.concat([df, pd.get_dummies(df[categorical[i]], prefix=dummy_prefix[i])], axis=1)"
   ]
  },
  {
   "cell_type": "code",
   "execution_count": 6,
   "metadata": {},
   "outputs": [],
   "source": [
    "df_dummies = pd.get_dummies(df['International Reputation'])\n",
    "df_dummies.columns = ['International Reputation'+'_'+str(c) for c in df_dummies.columns]\n",
    "df= pd.concat([df, df_dummies], axis=1)"
   ]
  },
  {
   "cell_type": "code",
   "execution_count": 7,
   "metadata": {},
   "outputs": [],
   "source": [
    "#Splitting the columns by position\n",
    "forward = ['LS', 'ST', 'RS', 'LW', 'LF', 'CF', 'RF', 'RW']\n",
    "midfielder = ['LAM', 'CAM', 'RAM',\n",
    "       'LM', 'LCM', 'CM', 'RCM', 'RM',  'LDM', 'CDM', 'RDM']\n",
    "defender = ['LWB', 'RWB', 'LB',\n",
    "       'LCB', 'CB', 'RCB', 'RB']\n",
    "goalie = ['GK']\n",
    "npp = ['NP']"
   ]
  },
  {
   "cell_type": "code",
   "execution_count": 8,
   "metadata": {},
   "outputs": [],
   "source": [
    "#Creating 4 tables respect to positions\n",
    "df_forward = []\n",
    "df_midfielder = []\n",
    "df_defender = []\n",
    "df_goalie = []\n",
    "df_np = []\n",
    "for i in range(0,len(df)):\n",
    "    for x in npp:\n",
    "        if df.iloc[i,14]== x:\n",
    "            df_np.append(df.iloc[i,:])\n",
    "for i in range(0,len(df)):\n",
    "    for x in forward:\n",
    "        if df.iloc[i,14]== x:\n",
    "            df_forward.append(df.iloc[i,:])\n",
    "for i in range(0,len(df)):\n",
    "    for x in midfielder:\n",
    "        if df.iloc[i,14]== x:\n",
    "            df_midfielder.append(df.iloc[i,:])\n",
    "for i in range(0,len(df)):\n",
    "    for x in defender:\n",
    "        if df.iloc[i,14]== x:\n",
    "            df_defender.append(df.iloc[i,:])            \n",
    "for i in range(0,len(df)):\n",
    "    for x in goalie:\n",
    "        if df.iloc[i,14]== x:\n",
    "            df_goalie.append(df.iloc[i,:])"
   ]
  },
  {
   "cell_type": "code",
   "execution_count": 9,
   "metadata": {},
   "outputs": [
    {
     "data": {
      "text/html": [
       "<div>\n",
       "<style scoped>\n",
       "    .dataframe tbody tr th:only-of-type {\n",
       "        vertical-align: middle;\n",
       "    }\n",
       "\n",
       "    .dataframe tbody tr th {\n",
       "        vertical-align: top;\n",
       "    }\n",
       "\n",
       "    .dataframe thead th {\n",
       "        text-align: right;\n",
       "    }\n",
       "</style>\n",
       "<table border=\"1\" class=\"dataframe\">\n",
       "  <thead>\n",
       "    <tr style=\"text-align: right;\">\n",
       "      <th></th>\n",
       "      <th>Name</th>\n",
       "      <th>Age</th>\n",
       "      <th>Nationality</th>\n",
       "      <th>Overall</th>\n",
       "      <th>Potential</th>\n",
       "      <th>Club</th>\n",
       "      <th>Value</th>\n",
       "      <th>Wage</th>\n",
       "      <th>Special</th>\n",
       "      <th>Preferred Foot</th>\n",
       "      <th>...</th>\n",
       "      <th>Pos_RM</th>\n",
       "      <th>Pos_RS</th>\n",
       "      <th>Pos_RW</th>\n",
       "      <th>Pos_RWB</th>\n",
       "      <th>Pos_ST</th>\n",
       "      <th>International Reputation_1.0</th>\n",
       "      <th>International Reputation_2.0</th>\n",
       "      <th>International Reputation_3.0</th>\n",
       "      <th>International Reputation_4.0</th>\n",
       "      <th>International Reputation_5.0</th>\n",
       "    </tr>\n",
       "  </thead>\n",
       "  <tbody>\n",
       "    <tr>\n",
       "      <th>0</th>\n",
       "      <td>L. Messi</td>\n",
       "      <td>31</td>\n",
       "      <td>Argentina</td>\n",
       "      <td>94</td>\n",
       "      <td>94</td>\n",
       "      <td>FC Barcelona</td>\n",
       "      <td>110.5</td>\n",
       "      <td>565.0</td>\n",
       "      <td>2202</td>\n",
       "      <td>Left</td>\n",
       "      <td>...</td>\n",
       "      <td>0</td>\n",
       "      <td>0</td>\n",
       "      <td>0</td>\n",
       "      <td>0</td>\n",
       "      <td>0</td>\n",
       "      <td>0</td>\n",
       "      <td>0</td>\n",
       "      <td>0</td>\n",
       "      <td>0</td>\n",
       "      <td>1</td>\n",
       "    </tr>\n",
       "    <tr>\n",
       "      <th>1</th>\n",
       "      <td>Cristiano Ronaldo</td>\n",
       "      <td>33</td>\n",
       "      <td>Portugal</td>\n",
       "      <td>94</td>\n",
       "      <td>94</td>\n",
       "      <td>Juventus</td>\n",
       "      <td>77.0</td>\n",
       "      <td>405.0</td>\n",
       "      <td>2228</td>\n",
       "      <td>Right</td>\n",
       "      <td>...</td>\n",
       "      <td>0</td>\n",
       "      <td>0</td>\n",
       "      <td>0</td>\n",
       "      <td>0</td>\n",
       "      <td>1</td>\n",
       "      <td>0</td>\n",
       "      <td>0</td>\n",
       "      <td>0</td>\n",
       "      <td>0</td>\n",
       "      <td>1</td>\n",
       "    </tr>\n",
       "    <tr>\n",
       "      <th>2</th>\n",
       "      <td>Neymar Jr</td>\n",
       "      <td>26</td>\n",
       "      <td>Brazil</td>\n",
       "      <td>92</td>\n",
       "      <td>93</td>\n",
       "      <td>Paris Saint-Germain</td>\n",
       "      <td>118.5</td>\n",
       "      <td>290.0</td>\n",
       "      <td>2143</td>\n",
       "      <td>Right</td>\n",
       "      <td>...</td>\n",
       "      <td>0</td>\n",
       "      <td>0</td>\n",
       "      <td>0</td>\n",
       "      <td>0</td>\n",
       "      <td>0</td>\n",
       "      <td>0</td>\n",
       "      <td>0</td>\n",
       "      <td>0</td>\n",
       "      <td>0</td>\n",
       "      <td>1</td>\n",
       "    </tr>\n",
       "    <tr>\n",
       "      <th>5</th>\n",
       "      <td>E. Hazard</td>\n",
       "      <td>27</td>\n",
       "      <td>Belgium</td>\n",
       "      <td>91</td>\n",
       "      <td>91</td>\n",
       "      <td>Chelsea</td>\n",
       "      <td>93.0</td>\n",
       "      <td>340.0</td>\n",
       "      <td>2142</td>\n",
       "      <td>Right</td>\n",
       "      <td>...</td>\n",
       "      <td>0</td>\n",
       "      <td>0</td>\n",
       "      <td>0</td>\n",
       "      <td>0</td>\n",
       "      <td>0</td>\n",
       "      <td>0</td>\n",
       "      <td>0</td>\n",
       "      <td>0</td>\n",
       "      <td>1</td>\n",
       "      <td>0</td>\n",
       "    </tr>\n",
       "    <tr>\n",
       "      <th>7</th>\n",
       "      <td>L. Suárez</td>\n",
       "      <td>31</td>\n",
       "      <td>Uruguay</td>\n",
       "      <td>91</td>\n",
       "      <td>91</td>\n",
       "      <td>FC Barcelona</td>\n",
       "      <td>80.0</td>\n",
       "      <td>455.0</td>\n",
       "      <td>2346</td>\n",
       "      <td>Right</td>\n",
       "      <td>...</td>\n",
       "      <td>0</td>\n",
       "      <td>1</td>\n",
       "      <td>0</td>\n",
       "      <td>0</td>\n",
       "      <td>0</td>\n",
       "      <td>0</td>\n",
       "      <td>0</td>\n",
       "      <td>0</td>\n",
       "      <td>0</td>\n",
       "      <td>1</td>\n",
       "    </tr>\n",
       "  </tbody>\n",
       "</table>\n",
       "<p>5 rows × 120 columns</p>\n",
       "</div>"
      ],
      "text/plain": [
       "                Name  Age Nationality  Overall  Potential  \\\n",
       "0           L. Messi   31   Argentina       94         94   \n",
       "1  Cristiano Ronaldo   33    Portugal       94         94   \n",
       "2          Neymar Jr   26      Brazil       92         93   \n",
       "5          E. Hazard   27     Belgium       91         91   \n",
       "7          L. Suárez   31     Uruguay       91         91   \n",
       "\n",
       "                  Club  Value   Wage  Special Preferred Foot  ...  Pos_RM  \\\n",
       "0         FC Barcelona  110.5  565.0     2202           Left  ...       0   \n",
       "1             Juventus   77.0  405.0     2228          Right  ...       0   \n",
       "2  Paris Saint-Germain  118.5  290.0     2143          Right  ...       0   \n",
       "5              Chelsea   93.0  340.0     2142          Right  ...       0   \n",
       "7         FC Barcelona   80.0  455.0     2346          Right  ...       0   \n",
       "\n",
       "   Pos_RS  Pos_RW Pos_RWB Pos_ST  International Reputation_1.0  \\\n",
       "0       0       0       0      0                             0   \n",
       "1       0       0       0      1                             0   \n",
       "2       0       0       0      0                             0   \n",
       "5       0       0       0      0                             0   \n",
       "7       1       0       0      0                             0   \n",
       "\n",
       "   International Reputation_2.0  International Reputation_3.0  \\\n",
       "0                             0                             0   \n",
       "1                             0                             0   \n",
       "2                             0                             0   \n",
       "5                             0                             0   \n",
       "7                             0                             0   \n",
       "\n",
       "   International Reputation_4.0  International Reputation_5.0  \n",
       "0                             0                             1  \n",
       "1                             0                             1  \n",
       "2                             0                             1  \n",
       "5                             1                             0  \n",
       "7                             0                             1  \n",
       "\n",
       "[5 rows x 120 columns]"
      ]
     },
     "execution_count": 9,
     "metadata": {},
     "output_type": "execute_result"
    }
   ],
   "source": [
    "df_forward = pd.DataFrame(df_forward)\n",
    "df_midfielder = pd.DataFrame(df_midfielder)\n",
    "df_defender = pd.DataFrame(df_defender)\n",
    "df_goalie = pd.DataFrame(df_goalie)\n",
    "df_np= pd.DataFrame(df_np)\n",
    "df_forward.head()"
   ]
  },
  {
   "cell_type": "code",
   "execution_count": 10,
   "metadata": {},
   "outputs": [
    {
     "name": "stdout",
     "output_type": "stream",
     "text": [
      "(18159, 120) (3418, 120) (6838, 120) (5866, 120) (2025, 120) (12, 120)\n"
     ]
    }
   ],
   "source": [
    "print (df.shape, df_forward.shape, df_midfielder.shape, df_defender.shape, df_goalie.shape, df_np.shape)"
   ]
  },
  {
   "cell_type": "code",
   "execution_count": 15,
   "metadata": {},
   "outputs": [],
   "source": [
    "X_columns = list(set(df.columns)-set(['Name', 'Nationality', 'Club','Overall', 'Work Rate','Preferred Foot', 'Attack Work Rate', 'Defensive Work Rate', 'Position']))\n",
    "y_column = ['Overall']"
   ]
  },
  {
   "cell_type": "markdown",
   "metadata": {},
   "source": [
    "## Model Training"
   ]
  },
  {
   "cell_type": "code",
   "execution_count": 17,
   "metadata": {},
   "outputs": [
    {
     "name": "stdout",
     "output_type": "stream",
     "text": [
      "X_forward_train (2734, 111)\n",
      "y_forward_train (2734, 1)\n",
      "X_forward_test (684, 111)\n",
      "y_forward_test (684, 1)\n",
      "X_midfielder_train (5470, 111)\n",
      "y_midfielder_train (5470, 1)\n",
      "X_midfielder_test (1368, 111)\n",
      "y_midfielder_test (1368, 1)\n",
      "X_defender_train (4692, 111)\n",
      "y_defender_train (4692, 1)\n",
      "X_defender_test (1174, 111)\n",
      "y_defender_test (1174, 1)\n",
      "X_goalie_train (1620, 111)\n",
      "y_goalie_train (1620, 1)\n",
      "X_goalie_test (405, 111)\n",
      "y_goalie_test (405, 1)\n",
      "X_np_train (9, 111)\n",
      "y_np_train (9, 1)\n",
      "X_np_test (3, 111)\n",
      "y_np_test (3, 1)\n"
     ]
    }
   ],
   "source": [
    "threshold = 0.8\n",
    "X_forward = df_forward[X_columns]\n",
    "X_midfielder = df_midfielder[X_columns]\n",
    "X_defender = df_defender[X_columns]\n",
    "X_goalie = df_goalie[X_columns]\n",
    "X_np = df_np[X_columns]\n",
    "\n",
    "y_forward = df_forward[y_column]\n",
    "y_midfielder = df_midfielder[y_column]\n",
    "y_defender = df_defender[y_column]\n",
    "y_goalie = df_goalie[y_column]\n",
    "y_np = df_np[y_column]\n",
    "\n",
    "X_forward_train, X_forward_test, y_forward_train, y_forward_test = train_test_split(X_forward, y_forward, test_size=1.0-threshold, shuffle=True)\n",
    "X_midfielder_train, X_midfielder_test, y_midfielder_train, y_midfielder_test = train_test_split(X_midfielder, y_midfielder, test_size=1.0-threshold, shuffle=True)\n",
    "X_defender_train, X_defender_test, y_defender_train, y_defender_test = train_test_split(X_defender, y_defender, test_size=1.0-threshold, shuffle=True)\n",
    "X_goalie_train, X_goalie_test, y_goalie_train, y_goalie_test = train_test_split(X_goalie, y_goalie, test_size=1.0-threshold, shuffle=True)\n",
    "X_np_train, X_np_test, y_np_train, y_np_test = train_test_split(X_np, y_np, test_size=1.0-threshold, shuffle=True)\n",
    "\n",
    "\n",
    "print('X_forward_train', X_forward_train.shape)\n",
    "print('y_forward_train', y_forward_train.shape)\n",
    "print('X_forward_test', X_forward_test.shape)\n",
    "print('y_forward_test', y_forward_test.shape)\n",
    "\n",
    "print('X_midfielder_train', X_midfielder_train.shape)\n",
    "print('y_midfielder_train', y_midfielder_train.shape)\n",
    "print('X_midfielder_test', X_midfielder_test.shape)\n",
    "print('y_midfielder_test', y_midfielder_test.shape)\n",
    "\n",
    "print('X_defender_train', X_defender_train.shape)\n",
    "print('y_defender_train', y_defender_train.shape)\n",
    "print('X_defender_test', X_defender_test.shape)\n",
    "print('y_defender_test', y_defender_test.shape)\n",
    "\n",
    "print('X_goalie_train', X_goalie_train.shape)\n",
    "print('y_goalie_train', y_goalie_train.shape)\n",
    "print('X_goalie_test', X_goalie_test.shape)\n",
    "print('y_goalie_test', y_goalie_test.shape)\n",
    "\n",
    "print('X_np_train', X_np_train.shape)\n",
    "print('y_np_train', y_np_train.shape)\n",
    "print('X_np_test', X_np_test.shape)\n",
    "print('y_np_test', y_np_test.shape)"
   ]
  },
  {
   "cell_type": "code",
   "execution_count": 28,
   "metadata": {},
   "outputs": [],
   "source": [
    "model_forward= LinearRegression()\n",
    "model_goalie= LinearRegression()\n",
    "model_midfielder= LinearRegression()\n",
    "model_defender= LinearRegression()\n",
    "model_np= LinearRegression()\n",
    "\n",
    "model_forward.fit(X_forward_train, y_forward_train)\n",
    "y_forward_pred = model_forward.predict(X_forward_test)\n",
    "\n",
    "model_midfielder.fit(X_midfielder_train, y_midfielder_train)\n",
    "y_midfielder_pred = model_midfielder.predict(X_midfielder_test)\n",
    "\n",
    "model_defender.fit(X_defender_train, y_defender_train)\n",
    "y_defender_pred = model_defender.predict(X_defender_test)\n",
    "\n",
    "model_goalie.fit(X_goalie_train, y_goalie_train)\n",
    "y_goalie_pred = model_goalie.predict(X_goalie_test)\n",
    "\n",
    "model_np.fit(X_np_train, y_np_train)\n",
    "y_np_pred = model_np.predict(X_np_test)"
   ]
  },
  {
   "cell_type": "code",
   "execution_count": 24,
   "metadata": {},
   "outputs": [
    {
     "name": "stdout",
     "output_type": "stream",
     "text": [
      "RMSE forward 1.0\n"
     ]
    },
    {
     "data": {
      "image/png": "[encoded data removed]",
      "text/plain": [
       "<Figure size 432x288 with 1 Axes>"
      ]
     },
     "metadata": {
      "needs_background": "light"
     },
     "output_type": "display_data"
    }
   ],
   "source": [
    "rmse = np.sqrt(mean_squared_error(y_forward_test, y_forward_pred))\n",
    "print('RMSE forward', round(rmse, 2))\n",
    "plt.scatter(y_forward_test, y_forward_pred, alpha=0.3)\n",
    "plt.plot(range(0,10), range(0,10), '--r', alpha=0.3, label='Line1')\n",
    "plt.title('Linear Regression')\n",
    "plt.xlabel('True Value')\n",
    "plt.ylabel('Predict Value')\n",
    "plt.show()"
   ]
  },
  {
   "cell_type": "code",
   "execution_count": 25,
   "metadata": {},
   "outputs": [
    {
     "name": "stdout",
     "output_type": "stream",
     "text": [
      "RMSE midfielder 1.33\n"
     ]
    },
    {
     "data": {
      "image/png": "[encoded data removed]",
      "text/plain": [
       "<Figure size 432x288 with 1 Axes>"
      ]
     },
     "metadata": {
      "needs_background": "light"
     },
     "output_type": "display_data"
    }
   ],
   "source": [
    "rmse = np.sqrt(mean_squared_error(y_midfielder_test, y_midfielder_pred))\n",
    "print('RMSE midfielder', round(rmse, 2))\n",
    "plt.scatter(y_midfielder_test, y_midfielder_pred, alpha=0.3)\n",
    "plt.plot(range(0,10), range(0,10), '--r', alpha=0.3, label='Line1')\n",
    "plt.title('Linear Regression')\n",
    "plt.xlabel('True Value')\n",
    "plt.ylabel('Predict Value')\n",
    "plt.show()"
   ]
  },
  {
   "cell_type": "code",
   "execution_count": 26,
   "metadata": {},
   "outputs": [
    {
     "name": "stdout",
     "output_type": "stream",
     "text": [
      "RMSE defender 1.18\n"
     ]
    },
    {
     "data": {
      "image/png": "[encoded data removed]",
      "text/plain": [
       "<Figure size 432x288 with 1 Axes>"
      ]
     },
     "metadata": {
      "needs_background": "light"
     },
     "output_type": "display_data"
    }
   ],
   "source": [
    "rmse = np.sqrt(mean_squared_error(y_defender_test, y_defender_pred))\n",
    "print('RMSE defender', round(rmse, 2))\n",
    "plt.scatter(y_defender_test, y_defender_pred, alpha=0.3)\n",
    "plt.plot(range(0,10), range(0,10), '--r', alpha=0.3, label='Line1')\n",
    "plt.title('Linear Regression')\n",
    "plt.xlabel('True Value')\n",
    "plt.ylabel('Predict Value')\n",
    "plt.show()"
   ]
  },
  {
   "cell_type": "code",
   "execution_count": 29,
   "metadata": {},
   "outputs": [
    {
     "name": "stdout",
     "output_type": "stream",
     "text": [
      "RMSE goalie 0.37\n"
     ]
    },
    {
     "data": {
      "image/png": "[encoded data removed]",
      "text/plain": [
       "<Figure size 432x288 with 1 Axes>"
      ]
     },
     "metadata": {
      "needs_background": "light"
     },
     "output_type": "display_data"
    }
   ],
   "source": [
    "rmse = np.sqrt(mean_squared_error(y_goalie_test, y_goalie_pred))\n",
    "print('RMSE goalie', round(rmse, 2))\n",
    "plt.scatter(y_goalie_test, y_goalie_pred, alpha=0.3)\n",
    "plt.plot(range(0,10), range(0,10), '--r', alpha=0.3, label='Line1')\n",
    "plt.title('Linear Regression')\n",
    "plt.xlabel('True Value')\n",
    "plt.ylabel('Predict Value')\n",
    "plt.show()"
   ]
  },
  {
   "cell_type": "code",
   "execution_count": 30,
   "metadata": {},
   "outputs": [
    {
     "name": "stdout",
     "output_type": "stream",
     "text": [
      "RMSE NP 2.12\n"
     ]
    },
    {
     "data": {
      "image/png": "[encoded data removed]",
      "text/plain": [
       "<Figure size 432x288 with 1 Axes>"
      ]
     },
     "metadata": {
      "needs_background": "light"
     },
     "output_type": "display_data"
    }
   ],
   "source": [
    "rmse = np.sqrt(mean_squared_error(y_np_test, y_np_pred))\n",
    "print('RMSE NP', round(rmse, 2))\n",
    "plt.scatter(y_np_test, y_np_pred, alpha=0.3)\n",
    "plt.plot(range(0,10), range(0,10), '--r', alpha=0.3, label='Line1')\n",
    "plt.title('Linear Regression')\n",
    "plt.xlabel('True Value')\n",
    "plt.ylabel('Predict Value')\n",
    "plt.show()"
   ]
  },
  {
   "cell_type": "code",
   "execution_count": null,
   "metadata": {},
   "outputs": [],
   "source": []
  }
 ],
 "metadata": {
  "kernelspec": {
   "display_name": "Python 3",
   "language": "python",
   "name": "python3"
  },
  "language_info": {
   "codemirror_mode": {
    "name": "ipython",
    "version": 3
   },
   "file_extension": ".py",
   "mimetype": "text/x-python",
   "name": "python",
   "nbconvert_exporter": "python",
   "pygments_lexer": "ipython3",
   "version": "3.7.3"
  }
 },
 "nbformat": 4,
 "nbformat_minor": 2
}
